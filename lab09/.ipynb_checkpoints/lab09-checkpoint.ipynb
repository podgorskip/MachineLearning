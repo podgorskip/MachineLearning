{
 "cells": [
  {
   "cell_type": "code",
   "execution_count": 1,
   "id": "7e9e951f-7059-4e24-a1b7-2a418e0efd5e",
   "metadata": {},
   "outputs": [],
   "source": [
    "import tensorflow as tf"
   ]
  },
  {
   "cell_type": "code",
   "execution_count": 2,
   "id": "f52158ef-9c4e-4449-b93f-6e8e32820611",
   "metadata": {},
   "outputs": [],
   "source": [
    "fashion_mnist = tf.keras.datasets.fashion_mnist"
   ]
  },
  {
   "cell_type": "code",
   "execution_count": 3,
   "id": "93ce0b16-8325-4558-bd91-f398c5112437",
   "metadata": {},
   "outputs": [],
   "source": [
    "(X_train, y_train), (X_test, y_test) = fashion_mnist.load_data()"
   ]
  },
  {
   "cell_type": "code",
   "execution_count": 4,
   "id": "2d11c856-1892-4d2d-adda-24e5fcdaafa1",
   "metadata": {},
   "outputs": [
    {
     "data": {
      "text/plain": [
       "array([9, 0, 0, ..., 3, 0, 5], dtype=uint8)"
      ]
     },
     "execution_count": 4,
     "metadata": {},
     "output_type": "execute_result"
    }
   ],
   "source": [
    "y_train"
   ]
  },
  {
   "cell_type": "code",
   "execution_count": 5,
   "id": "b3cd7b12-1b80-4818-978a-cd3f59abe834",
   "metadata": {},
   "outputs": [],
   "source": [
    "X_train = X_train.astype('float32') / 255\n",
    "X_test = X_test.astype('float32') / 255"
   ]
  },
  {
   "cell_type": "code",
   "execution_count": 6,
   "id": "39a98e3e-3f4c-42d7-9bbd-58c6feefac3a",
   "metadata": {},
   "outputs": [],
   "source": [
    "import matplotlib.pyplot as plt"
   ]
  },
  {
   "cell_type": "code",
   "execution_count": 7,
   "id": "244f9fd4-eb39-4715-9cbd-877052c59b82",
   "metadata": {},
   "outputs": [
    {
     "data": {
      "image/png": "[encoded data removed]",
      "text/plain": [
       "<Figure size 640x480 with 1 Axes>"
      ]
     },
     "metadata": {},
     "output_type": "display_data"
    }
   ],
   "source": [
    "plt.imshow(X_train[2137], cmap=\"binary\")\n",
    "plt.axis('off')\n",
    "plt.show()"
   ]
  },
  {
   "cell_type": "code",
   "execution_count": 8,
   "id": "ecfdafe2-e9a6-49e4-8162-cd546cdc3197",
   "metadata": {},
   "outputs": [],
   "source": [
    "class_names = [\"koszulka\", \"spodnie\", \"pulower\", \"sukienka\", \"kurtka\", \"sandał\", \"koszula\", \"but\", \"torba\", \"kozak\"]"
   ]
  },
  {
   "cell_type": "code",
   "execution_count": 9,
   "id": "39190291-1911-4f39-89c8-d246408d6535",
   "metadata": {},
   "outputs": [
    {
     "data": {
      "text/plain": [
       "'sukienka'"
      ]
     },
     "execution_count": 9,
     "metadata": {},
     "output_type": "execute_result"
    }
   ],
   "source": [
    "class_names[y_train[2137]]"
   ]
  },
  {
   "cell_type": "code",
   "execution_count": 10,
   "id": "9582bb07-8ff1-4652-957f-6bd20dbe6412",
   "metadata": {},
   "outputs": [],
   "source": [
    "model = tf.keras.models.Sequential()"
   ]
  },
  {
   "cell_type": "code",
   "execution_count": 11,
   "id": "e5b26d06-bc5b-4784-9e44-52b553c78453",
   "metadata": {},
   "outputs": [],
   "source": [
    "model.add(tf.keras.layers.Reshape((784,), input_shape=(28, 28)))"
   ]
  },
  {
   "cell_type": "code",
   "execution_count": 12,
   "id": "2583c4ae-e05a-476f-a668-ed3d36fd85e6",
   "metadata": {},
   "outputs": [],
   "source": [
    "model.add(tf.keras.layers.Dense(300, activation='relu'))"
   ]
  },
  {
   "cell_type": "code",
   "execution_count": 13,
   "id": "1409f53b-dca3-4c15-a8e7-bbc67cacabbd",
   "metadata": {},
   "outputs": [],
   "source": [
    "model.add(tf.keras.layers.Dense(100, activation='softmax'))"
   ]
  },
  {
   "cell_type": "code",
   "execution_count": 14,
   "id": "21b1fcd1-8b8e-421e-85d2-cec251f6c4f5",
   "metadata": {},
   "outputs": [],
   "source": [
    "model.add(tf.keras.layers.Dense(10, activation='softmax'))"
   ]
  },
  {
   "cell_type": "code",
   "execution_count": 15,
   "id": "21e11cab-204a-4590-bc0a-187010e09703",
   "metadata": {},
   "outputs": [
    {
     "name": "stdout",
     "output_type": "stream",
     "text": [
      "Model: \"sequential\"\n",
      "_________________________________________________________________\n",
      " Layer (type)                Output Shape              Param #   \n",
      "=================================================================\n",
      " reshape (Reshape)           (None, 784)               0         \n",
      "                                                                 \n",
      " dense (Dense)               (None, 300)               235500    \n",
      "                                                                 \n",
      " dense_1 (Dense)             (None, 100)               30100     \n",
      "                                                                 \n",
      " dense_2 (Dense)             (None, 10)                1010      \n",
      "                                                                 \n",
      "=================================================================\n",
      "Total params: 266610 (1.02 MB)\n",
      "Trainable params: 266610 (1.02 MB)\n",
      "Non-trainable params: 0 (0.00 Byte)\n",
      "_________________________________________________________________\n",
      "You must install pydot (`pip install pydot`) and install graphviz (see instructions at https://graphviz.gitlab.io/download/) for plot_model to work.\n"
     ]
    }
   ],
   "source": [
    "model.summary()\n",
    "tf.keras.utils.plot_model(model, \"fashion_mnist.png\", show_shapes=True)"
   ]
  },
  {
   "cell_type": "code",
   "execution_count": 16,
   "id": "0a5c4709-83b2-4f13-b4d2-b41769bb5ac3",
   "metadata": {},
   "outputs": [],
   "source": [
    "model.compile(optimizer='sgd', metrics=['accuracy'], loss='sparse_categorical_crossentropy')"
   ]
  },
  {
   "cell_type": "code",
   "execution_count": 17,
   "id": "2890bfea-5b5e-462c-85ee-a250223696af",
   "metadata": {},
   "outputs": [],
   "source": [
    "import os\n",
    "import time\n",
    "\n",
    "def generate_log_dir():\n",
    "    current_time = time.strftime(\"%Y%m%d-%H%M%S\")\n",
    "    log_dir = os.path.join(\"image_logs\", current_time)\n",
    "    return log_dir\n",
    "\n",
    "if not os.path.exists(\"image_logs\"):\n",
    "    os.makedirs(\"image_logs\")\n",
    "\n",
    "log_dir = generate_log_dir()\n",
    "\n",
    "tensorboard = tf.keras.callbacks.TensorBoard(log_dir=log_dir)"
   ]
  },
  {
   "cell_type": "code",
   "execution_count": 32,
   "id": "2e332e63-6ca4-47a7-8e30-4ccbf43b0da1",
   "metadata": {},
   "outputs": [
    {
     "name": "stdout",
     "output_type": "stream",
     "text": [
      "Epoch 1/20\n",
      "1688/1688 [==============================] - 2s 961us/step - loss: 1.0923 - accuracy: 0.5783 - val_loss: 1.0866 - val_accuracy: 0.6120\n",
      "Epoch 2/20\n",
      "1688/1688 [==============================] - 2s 901us/step - loss: 1.0755 - accuracy: 0.5904 - val_loss: 1.0779 - val_accuracy: 0.6220\n",
      "Epoch 3/20\n",
      "1688/1688 [==============================] - 2s 912us/step - loss: 1.0609 - accuracy: 0.6013 - val_loss: 1.0885 - val_accuracy: 0.6153\n",
      "Epoch 4/20\n",
      "1688/1688 [==============================] - 2s 910us/step - loss: 1.0464 - accuracy: 0.6131 - val_loss: 1.0597 - val_accuracy: 0.6265\n",
      "Epoch 5/20\n",
      "1688/1688 [==============================] - 2s 906us/step - loss: 1.0329 - accuracy: 0.6205 - val_loss: 1.0386 - val_accuracy: 0.5933\n",
      "Epoch 6/20\n",
      "1688/1688 [==============================] - 2s 930us/step - loss: 1.0195 - accuracy: 0.6278 - val_loss: 1.0651 - val_accuracy: 0.6050\n",
      "Epoch 7/20\n",
      "1688/1688 [==============================] - 2s 938us/step - loss: 1.0069 - accuracy: 0.6289 - val_loss: 1.0180 - val_accuracy: 0.6308\n",
      "Epoch 8/20\n",
      "1688/1688 [==============================] - 2s 953us/step - loss: 0.9948 - accuracy: 0.6396 - val_loss: 1.0047 - val_accuracy: 0.6417\n",
      "Epoch 9/20\n",
      "1688/1688 [==============================] - 2s 971us/step - loss: 0.9838 - accuracy: 0.6385 - val_loss: 0.9969 - val_accuracy: 0.6377\n",
      "Epoch 10/20\n",
      "1688/1688 [==============================] - 2s 980us/step - loss: 0.9732 - accuracy: 0.6454 - val_loss: 0.9864 - val_accuracy: 0.6295\n",
      "Epoch 11/20\n",
      "1688/1688 [==============================] - 2s 987us/step - loss: 0.9634 - accuracy: 0.6487 - val_loss: 0.9944 - val_accuracy: 0.6452\n",
      "Epoch 12/20\n",
      "1688/1688 [==============================] - 2s 996us/step - loss: 0.9530 - accuracy: 0.6522 - val_loss: 0.9724 - val_accuracy: 0.6707\n",
      "Epoch 13/20\n",
      "1688/1688 [==============================] - 2s 1ms/step - loss: 0.9431 - accuracy: 0.6636 - val_loss: 0.9604 - val_accuracy: 0.6558\n",
      "Epoch 14/20\n",
      "1688/1688 [==============================] - 2s 972us/step - loss: 0.9338 - accuracy: 0.6663 - val_loss: 0.9534 - val_accuracy: 0.6468\n",
      "Epoch 15/20\n",
      "1688/1688 [==============================] - 2s 983us/step - loss: 0.9242 - accuracy: 0.6704 - val_loss: 0.9470 - val_accuracy: 0.6597\n",
      "Epoch 16/20\n",
      "1688/1688 [==============================] - 2s 1ms/step - loss: 0.9158 - accuracy: 0.6761 - val_loss: 0.9362 - val_accuracy: 0.6620\n",
      "Epoch 17/20\n",
      "1688/1688 [==============================] - 2s 1ms/step - loss: 0.9070 - accuracy: 0.6791 - val_loss: 0.9399 - val_accuracy: 0.6768\n",
      "Epoch 18/20\n",
      "1688/1688 [==============================] - 2s 1ms/step - loss: 0.8992 - accuracy: 0.6860 - val_loss: 0.9293 - val_accuracy: 0.6415\n",
      "Epoch 19/20\n",
      "1688/1688 [==============================] - 2s 1ms/step - loss: 0.8911 - accuracy: 0.6861 - val_loss: 0.9427 - val_accuracy: 0.6590\n",
      "Epoch 20/20\n",
      "1688/1688 [==============================] - 2s 1ms/step - loss: 0.8840 - accuracy: 0.6926 - val_loss: 0.9137 - val_accuracy: 0.6845\n"
     ]
    },
    {
     "data": {
      "text/plain": [
       "<keras.src.callbacks.History at 0x158cc1e80>"
      ]
     },
     "execution_count": 32,
     "metadata": {},
     "output_type": "execute_result"
    }
   ],
   "source": [
    "model.fit(X_train, y_train, epochs=20, callbacks=[tensorboard], validation_split=0.1)"
   ]
  },
  {
   "cell_type": "code",
   "execution_count": 20,
   "id": "6cae1aad-45fb-4cf9-88e7-d6c2ff067362",
   "metadata": {},
   "outputs": [
    {
     "name": "stdout",
     "output_type": "stream",
     "text": [
      "313/313 [==============================] - 0s 501us/step\n"
     ]
    },
    {
     "data": {
      "text/plain": [
       "array([[3.02874274e-03, 1.23732712e-03, 1.39179861e-03, ...,\n",
       "        4.37406480e-01, 2.29502167e-03, 4.89498883e-01],\n",
       "       [6.95787966e-02, 2.55642197e-04, 2.46421129e-01, ...,\n",
       "        1.94546906e-03, 2.51354218e-01, 1.26002159e-03],\n",
       "       [5.90697788e-02, 6.58097923e-01, 6.64432242e-04, ...,\n",
       "        2.89573008e-03, 4.62388532e-04, 1.89821876e-03],\n",
       "       ...,\n",
       "       [8.81702825e-02, 4.87891230e-04, 2.32914567e-01, ...,\n",
       "        2.54257163e-03, 2.33028650e-01, 1.64675387e-03],\n",
       "       [6.01338930e-02, 6.54593408e-01, 6.87769789e-04, ...,\n",
       "        2.94354721e-03, 4.79164970e-04, 1.92951073e-03],\n",
       "       [2.81780791e-02, 1.07870717e-02, 1.06311925e-02, ...,\n",
       "        9.46119428e-02, 1.31317833e-02, 2.12494768e-02]], dtype=float32)"
      ]
     },
     "execution_count": 20,
     "metadata": {},
     "output_type": "execute_result"
    }
   ],
   "source": [
    "model.predict(X_test)"
   ]
  },
  {
   "cell_type": "code",
   "execution_count": 21,
   "id": "33127a74-d579-4e2d-a1b0-6832569324c6",
   "metadata": {},
   "outputs": [],
   "source": [
    "import numpy as np"
   ]
  },
  {
   "cell_type": "code",
   "execution_count": 22,
   "id": "56422853-f5f4-4059-b534-05d5fd1c2889",
   "metadata": {},
   "outputs": [
    {
     "name": "stdout",
     "output_type": "stream",
     "text": [
      "1/1 [==============================] - 0s 16ms/step\n",
      "Prediction: sukienka\n",
      "Confidence: 0.38052285\n",
      "Truth: sukienka\n"
     ]
    },
    {
     "data": {
      "image/png": "[encoded data removed]",
      "text/plain": [
       "<Figure size 640x480 with 1 Axes>"
      ]
     },
     "metadata": {},
     "output_type": "display_data"
    }
   ],
   "source": [
    "image_index = np.random.randint(len(X_test))\n",
    "image = np.array([X_test[image_index]])\n",
    "confidences = model.predict(image)\n",
    "confidence = np.max(confidences[0])\n",
    "prediction = np.argmax(confidences[0])\n",
    "print(\"Prediction:\", class_names[prediction])\n",
    "print(\"Confidence:\", confidence)\n",
    "print(\"Truth:\", class_names[y_test[image_index]])\n",
    "plt.imshow(image[0], cmap=\"binary\")\n",
    "plt.axis('off')\n",
    "plt.show()"
   ]
  },
  {
   "cell_type": "code",
   "execution_count": 23,
   "id": "952f5071-ea21-4c09-884a-6473c7f0ec6f",
   "metadata": {},
   "outputs": [],
   "source": [
    "import pickle"
   ]
  },
  {
   "cell_type": "code",
   "execution_count": 26,
   "id": "7417eb2b-ecf6-4e1e-8a3a-a8ba6d64427b",
   "metadata": {},
   "outputs": [],
   "source": [
    "with open('fashion_clf.keras', 'wb') as f:\n",
    "    pickle.dump(model, f)"
   ]
  },
  {
   "cell_type": "code",
   "execution_count": 27,
   "id": "ad2f7ae8-0e87-466a-aa48-562035c7db28",
   "metadata": {},
   "outputs": [],
   "source": [
    "from sklearn.datasets import fetch_california_housing\n",
    "from sklearn.model_selection import train_test_split\n",
    "from sklearn.preprocessing import StandardScaler"
   ]
  },
  {
   "cell_type": "code",
   "execution_count": 28,
   "id": "f70a4b74-ebc9-48c1-aa36-64f7aea66175",
   "metadata": {},
   "outputs": [],
   "source": [
    "housing = fetch_california_housing()"
   ]
  },
  {
   "cell_type": "code",
   "execution_count": 33,
   "id": "8794ee79-5303-4590-a84a-4228ad2e9b45",
   "metadata": {},
   "outputs": [
    {
     "data": {
      "text/plain": [
       "{'data': array([[   8.3252    ,   41.        ,    6.98412698, ...,    2.55555556,\n",
       "           37.88      , -122.23      ],\n",
       "        [   8.3014    ,   21.        ,    6.23813708, ...,    2.10984183,\n",
       "           37.86      , -122.22      ],\n",
       "        [   7.2574    ,   52.        ,    8.28813559, ...,    2.80225989,\n",
       "           37.85      , -122.24      ],\n",
       "        ...,\n",
       "        [   1.7       ,   17.        ,    5.20554273, ...,    2.3256351 ,\n",
       "           39.43      , -121.22      ],\n",
       "        [   1.8672    ,   18.        ,    5.32951289, ...,    2.12320917,\n",
       "           39.43      , -121.32      ],\n",
       "        [   2.3886    ,   16.        ,    5.25471698, ...,    2.61698113,\n",
       "           39.37      , -121.24      ]]),\n",
       " 'target': array([4.526, 3.585, 3.521, ..., 0.923, 0.847, 0.894]),\n",
       " 'frame': None,\n",
       " 'target_names': ['MedHouseVal'],\n",
       " 'feature_names': ['MedInc',\n",
       "  'HouseAge',\n",
       "  'AveRooms',\n",
       "  'AveBedrms',\n",
       "  'Population',\n",
       "  'AveOccup',\n",
       "  'Latitude',\n",
       "  'Longitude'],\n",
       " 'DESCR': '.. _california_housing_dataset:\\n\\nCalifornia Housing dataset\\n--------------------------\\n\\n**Data Set Characteristics:**\\n\\n:Number of Instances: 20640\\n\\n:Number of Attributes: 8 numeric, predictive attributes and the target\\n\\n:Attribute Information:\\n    - MedInc        median income in block group\\n    - HouseAge      median house age in block group\\n    - AveRooms      average number of rooms per household\\n    - AveBedrms     average number of bedrooms per household\\n    - Population    block group population\\n    - AveOccup      average number of household members\\n    - Latitude      block group latitude\\n    - Longitude     block group longitude\\n\\n:Missing Attribute Values: None\\n\\nThis dataset was obtained from the StatLib repository.\\nhttps://www.dcc.fc.up.pt/~ltorgo/Regression/cal_housing.html\\n\\nThe target variable is the median house value for California districts,\\nexpressed in hundreds of thousands of dollars ($100,000).\\n\\nThis dataset was derived from the 1990 U.S. census, using one row per census\\nblock group. A block group is the smallest geographical unit for which the U.S.\\nCensus Bureau publishes sample data (a block group typically has a population\\nof 600 to 3,000 people).\\n\\nA household is a group of people residing within a home. Since the average\\nnumber of rooms and bedrooms in this dataset are provided per household, these\\ncolumns may take surprisingly large values for block groups with few households\\nand many empty houses, such as vacation resorts.\\n\\nIt can be downloaded/loaded using the\\n:func:`sklearn.datasets.fetch_california_housing` function.\\n\\n.. topic:: References\\n\\n    - Pace, R. Kelley and Ronald Barry, Sparse Spatial Autoregressions,\\n      Statistics and Probability Letters, 33 (1997) 291-297\\n'}"
      ]
     },
     "execution_count": 33,
     "metadata": {},
     "output_type": "execute_result"
    }
   ],
   "source": [
    "housing"
   ]
  },
  {
   "cell_type": "code",
   "execution_count": 35,
   "id": "bd7f80f4-f88d-46e9-a1f9-7dc7d538c9b0",
   "metadata": {},
   "outputs": [],
   "source": [
    "X_train, X_test, y_train, y_test = train_test_split(housing.data, housing.target, test_size=0.2)"
   ]
  },
  {
   "cell_type": "code",
   "execution_count": 45,
   "id": "b6fa8c22-0ca3-4659-9662-a89a78c4dd8b",
   "metadata": {},
   "outputs": [],
   "source": [
    "model = tf.keras.models.Sequential()"
   ]
  },
  {
   "cell_type": "code",
   "execution_count": 46,
   "id": "c6e5713f-c4e7-4c2f-9bd0-4ecc0c8ab116",
   "metadata": {},
   "outputs": [],
   "source": [
    "model.add(tf.keras.layers.Normalization(axis=-1))\n",
    "model.add(tf.keras.layers.Dense(50))\n",
    "model.add(tf.keras.layers.Dense(50))\n",
    "model.add(tf.keras.layers.Dense(50))\n",
    "model.add(tf.keras.layers.Dense(units=1))"
   ]
  },
  {
   "cell_type": "code",
   "execution_count": 67,
   "id": "49f12e0b-54cf-452d-a006-4776e38c8c40",
   "metadata": {},
   "outputs": [],
   "source": [
    "model.compile(loss='mean_squared_error', optimizer='adam', metrics=['mae'])"
   ]
  },
  {
   "cell_type": "code",
   "execution_count": 72,
   "id": "3356697e-2aef-49f9-ab52-dce3d3471a74",
   "metadata": {},
   "outputs": [
    {
     "name": "stdout",
     "output_type": "stream",
     "text": [
      "Model: \"sequential_3\"\n",
      "_________________________________________________________________\n",
      " Layer (type)                Output Shape              Param #   \n",
      "=================================================================\n",
      " normalization_2 (Normaliza  (32, 8)                   17        \n",
      " tion)                                                           \n",
      "                                                                 \n",
      " dense_14 (Dense)            (32, 50)                  450       \n",
      "                                                                 \n",
      " dense_15 (Dense)            (32, 50)                  2550      \n",
      "                                                                 \n",
      " dense_16 (Dense)            (32, 50)                  2550      \n",
      "                                                                 \n",
      " dense_17 (Dense)            (32, 1)                   51        \n",
      "                                                                 \n",
      "=================================================================\n",
      "Total params: 5618 (21.95 KB)\n",
      "Trainable params: 5601 (21.88 KB)\n",
      "Non-trainable params: 17 (72.00 Byte)\n",
      "_________________________________________________________________\n"
     ]
    }
   ],
   "source": [
    "model.summary()"
   ]
  },
  {
   "cell_type": "code",
   "execution_count": 68,
   "id": "35377acc-268c-44b9-929a-1feae19004ba",
   "metadata": {},
   "outputs": [],
   "source": [
    "def generate_log_dir():\n",
    "    current_time = time.strftime(\"%Y%m%d-%H%M%S\")\n",
    "    log_dir = os.path.join(\"housing_logs\", current_time)\n",
    "    return log_dir\n",
    "\n",
    "if not os.path.exists(\"housing_logs\"):\n",
    "    os.makedirs(\"housing_logs\")\n",
    "\n",
    "log_dir = generate_log_dir()"
   ]
  },
  {
   "cell_type": "code",
   "execution_count": 73,
   "id": "7ffb2523-bf76-4069-99c9-8aedfbd3d480",
   "metadata": {},
   "outputs": [],
   "source": [
    "callback_early = tf.keras.callbacks.EarlyStopping(patience=5, min_delta=0.1, verbose=1, monitor='loss')"
   ]
  },
  {
   "cell_type": "code",
   "execution_count": 74,
   "id": "c527341a-a992-4ea5-be31-0037a106eda7",
   "metadata": {},
   "outputs": [],
   "source": [
    "callback_board = tf.keras.callbacks.TensorBoard(log_dir=log_dir)"
   ]
  },
  {
   "cell_type": "code",
   "execution_count": 81,
   "id": "fb4fa8a4-f466-4c4e-ba44-83c24fb3359b",
   "metadata": {},
   "outputs": [
    {
     "name": "stdout",
     "output_type": "stream",
     "text": [
      "Epoch 1/20\n",
      "516/516 [==============================] - 0s 543us/step - loss: 0.9182 - mae: 0.7046\n",
      "Epoch 2/20\n",
      "516/516 [==============================] - 0s 528us/step - loss: 3.3909 - mae: 1.0404\n",
      "Epoch 3/20\n",
      "516/516 [==============================] - 0s 557us/step - loss: 0.8909 - mae: 0.7126\n",
      "Epoch 4/20\n",
      "516/516 [==============================] - 0s 524us/step - loss: 1.0531 - mae: 0.7185\n",
      "Epoch 5/20\n",
      "516/516 [==============================] - 0s 532us/step - loss: 0.7916 - mae: 0.6742\n",
      "Epoch 6/20\n",
      "516/516 [==============================] - 0s 568us/step - loss: 0.7634 - mae: 0.6625\n",
      "Epoch 7/20\n",
      "516/516 [==============================] - 0s 531us/step - loss: 22.7668 - mae: 1.5814\n",
      "Epoch 8/20\n",
      "516/516 [==============================] - 0s 533us/step - loss: 0.7458 - mae: 0.6229\n",
      "Epoch 9/20\n",
      "516/516 [==============================] - 0s 551us/step - loss: 0.7285 - mae: 0.6239\n",
      "Epoch 10/20\n",
      "516/516 [==============================] - 0s 551us/step - loss: 0.7016 - mae: 0.6227\n",
      "Epoch 10: early stopping\n"
     ]
    }
   ],
   "source": [
    "history = model.fit(X_train, y_train, epochs=20, callbacks=[callback_early, callback_board])"
   ]
  },
  {
   "cell_type": "code",
   "execution_count": 83,
   "id": "9954e87e-ab01-4bf9-9566-d476e992043c",
   "metadata": {
    "scrolled": true
   },
   "outputs": [
    {
     "data": {
      "image/png": "[encoded data removed]",
      "text/plain": [
       "<Figure size 640x480 with 1 Axes>"
      ]
     },
     "metadata": {},
     "output_type": "display_data"
    }
   ],
   "source": [
    "plt.plot(history.history['loss'], label='Training Loss')\n",
    "plt.plot(history.history['loss'], label='Validation Loss')\n",
    "plt.xlabel('Epochs')\n",
    "plt.ylabel('Loss')\n",
    "plt.legend()\n",
    "plt.show()"
   ]
  },
  {
   "cell_type": "code",
   "execution_count": 84,
   "id": "2140c3d6-1131-43f9-a39e-3a11b11a1469",
   "metadata": {},
   "outputs": [],
   "source": [
    "with open('reg_housing_1.keras', 'wb') as f:\n",
    "    pickle.dump(model, f)"
   ]
  }
 ],
 "metadata": {
  "kernelspec": {
   "display_name": "Python 3 (ipykernel)",
   "language": "python",
   "name": "python3"
  },
  "language_info": {
   "codemirror_mode": {
    "name": "ipython",
    "version": 3
   },
   "file_extension": ".py",
   "mimetype": "text/x-python",
   "name": "python",
   "nbconvert_exporter": "python",
   "pygments_lexer": "ipython3",
   "version": "3.9.19"
  }
 },
 "nbformat": 4,
 "nbformat_minor": 5
}
