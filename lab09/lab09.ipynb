{
 "cells": [
  {
   "cell_type": "code",
   "execution_count": 61,
   "id": "7e9e951f-7059-4e24-a1b7-2a418e0efd5e",
   "metadata": {},
   "outputs": [],
   "source": [
    "import tensorflow as tf"
   ]
  },
  {
   "cell_type": "code",
   "execution_count": 62,
   "id": "f52158ef-9c4e-4449-b93f-6e8e32820611",
   "metadata": {},
   "outputs": [],
   "source": [
    "fashion_mnist = tf.keras.datasets.fashion_mnist"
   ]
  },
  {
   "cell_type": "code",
   "execution_count": 63,
   "id": "93ce0b16-8325-4558-bd91-f398c5112437",
   "metadata": {},
   "outputs": [],
   "source": [
    "(X_train, y_train), (X_test, y_test) = fashion_mnist.load_data()"
   ]
  },
  {
   "cell_type": "code",
   "execution_count": 64,
   "id": "2d11c856-1892-4d2d-adda-24e5fcdaafa1",
   "metadata": {},
   "outputs": [
    {
     "data": {
      "text/plain": [
       "array([9, 0, 0, ..., 3, 0, 5], dtype=uint8)"
      ]
     },
     "execution_count": 64,
     "metadata": {},
     "output_type": "execute_result"
    }
   ],
   "source": [
    "y_train"
   ]
  },
  {
   "cell_type": "code",
   "execution_count": 65,
   "id": "b3cd7b12-1b80-4818-978a-cd3f59abe834",
   "metadata": {},
   "outputs": [],
   "source": [
    "X_train = X_train.astype('float32') / 255\n",
    "X_test = X_test.astype('float32') / 255"
   ]
  },
  {
   "cell_type": "code",
   "execution_count": 66,
   "id": "39a98e3e-3f4c-42d7-9bbd-58c6feefac3a",
   "metadata": {},
   "outputs": [],
   "source": [
    "import matplotlib.pyplot as plt"
   ]
  },
  {
   "cell_type": "code",
   "execution_count": 67,
   "id": "244f9fd4-eb39-4715-9cbd-877052c59b82",
   "metadata": {},
   "outputs": [
    {
     "data": {
      "image/png": "[encoded data removed]",
      "text/plain": [
       "<Figure size 640x480 with 1 Axes>"
      ]
     },
     "metadata": {},
     "output_type": "display_data"
    }
   ],
   "source": [
    "plt.imshow(X_train[2137], cmap=\"binary\")\n",
    "plt.axis('off')\n",
    "plt.show()"
   ]
  },
  {
   "cell_type": "code",
   "execution_count": 68,
   "id": "ecfdafe2-e9a6-49e4-8162-cd546cdc3197",
   "metadata": {},
   "outputs": [],
   "source": [
    "class_names = [\"koszulka\", \"spodnie\", \"pulower\", \"sukienka\", \"kurtka\", \"sandał\", \"koszula\", \"but\", \"torba\", \"kozak\"]"
   ]
  },
  {
   "cell_type": "code",
   "execution_count": 69,
   "id": "39190291-1911-4f39-89c8-d246408d6535",
   "metadata": {},
   "outputs": [
    {
     "data": {
      "text/plain": [
       "'sukienka'"
      ]
     },
     "execution_count": 69,
     "metadata": {},
     "output_type": "execute_result"
    }
   ],
   "source": [
    "class_names[y_train[2137]]"
   ]
  },
  {
   "cell_type": "code",
   "execution_count": 82,
   "id": "9582bb07-8ff1-4652-957f-6bd20dbe6412",
   "metadata": {},
   "outputs": [],
   "source": [
    "model = tf.keras.models.Sequential()"
   ]
  },
  {
   "cell_type": "code",
   "execution_count": 84,
   "id": "fd90095d-eb06-40f3-bc1d-ffa4a496f2ea",
   "metadata": {},
   "outputs": [],
   "source": [
    "model.add(tf.keras.layers.InputLayer(input_shape=(28, 28)))"
   ]
  },
  {
   "cell_type": "code",
   "execution_count": 85,
   "id": "e5b26d06-bc5b-4784-9e44-52b553c78453",
   "metadata": {},
   "outputs": [],
   "source": [
    "model.add(tf.keras.layers.Flatten(input_shape=(28, 28)))"
   ]
  },
  {
   "cell_type": "code",
   "execution_count": 86,
   "id": "2583c4ae-e05a-476f-a668-ed3d36fd85e6",
   "metadata": {},
   "outputs": [],
   "source": [
    "model.add(tf.keras.layers.Dense(300))"
   ]
  },
  {
   "cell_type": "code",
   "execution_count": 87,
   "id": "1409f53b-dca3-4c15-a8e7-bbc67cacabbd",
   "metadata": {},
   "outputs": [],
   "source": [
    "model.add(tf.keras.layers.Dense(100))"
   ]
  },
  {
   "cell_type": "code",
   "execution_count": 88,
   "id": "21b1fcd1-8b8e-421e-85d2-cec251f6c4f5",
   "metadata": {},
   "outputs": [],
   "source": [
    "model.add(tf.keras.layers.Dense(10))"
   ]
  },
  {
   "cell_type": "code",
   "execution_count": 90,
   "id": "21e11cab-204a-4590-bc0a-187010e09703",
   "metadata": {},
   "outputs": [
    {
     "name": "stdout",
     "output_type": "stream",
     "text": [
      "Model: \"sequential_6\"\n",
      "_________________________________________________________________\n",
      " Layer (type)                Output Shape              Param #   \n",
      "=================================================================\n",
      " flatten_3 (Flatten)         (None, 784)               0         \n",
      "                                                                 \n",
      " dense_20 (Dense)            (None, 300)               235500    \n",
      "                                                                 \n",
      " dense_21 (Dense)            (None, 100)               30100     \n",
      "                                                                 \n",
      " dense_22 (Dense)            (None, 10)                1010      \n",
      "                                                                 \n",
      "=================================================================\n",
      "Total params: 266610 (1.02 MB)\n",
      "Trainable params: 266610 (1.02 MB)\n",
      "Non-trainable params: 0 (0.00 Byte)\n",
      "_________________________________________________________________\n",
      "You must install pydot (`pip install pydot`) and install graphviz (see instructions at https://graphviz.gitlab.io/download/) for plot_model to work.\n"
     ]
    }
   ],
   "source": [
    "model.summary()\n",
    "tf.keras.utils.plot_model(model, \"fashion_mnist.png\", show_shapes=True)"
   ]
  },
  {
   "cell_type": "code",
   "execution_count": 91,
   "id": "0a5c4709-83b2-4f13-b4d2-b41769bb5ac3",
   "metadata": {},
   "outputs": [],
   "source": [
    "model.compile(optimizer='sgd', metrics=['accuracy'], loss='sparse_categorical_crossentropy')"
   ]
  },
  {
   "cell_type": "code",
   "execution_count": 92,
   "id": "2890bfea-5b5e-462c-85ee-a250223696af",
   "metadata": {},
   "outputs": [],
   "source": [
    "import os\n",
    "import time\n",
    "\n",
    "def generate_log_dir():\n",
    "    current_time = time.strftime(\"%Y%m%d-%H%M%S\")\n",
    "    log_dir = os.path.join(\"image_logs\", current_time)\n",
    "    return log_dir\n",
    "\n",
    "if not os.path.exists(\"image_logs\"):\n",
    "    os.makedirs(\"image_logs\")\n",
    "\n",
    "log_dir = generate_log_dir()\n",
    "\n",
    "tensorboard = tf.keras.callbacks.TensorBoard(log_dir=log_dir)"
   ]
  },
  {
   "cell_type": "code",
   "execution_count": 93,
   "id": "2e332e63-6ca4-47a7-8e30-4ccbf43b0da1",
   "metadata": {},
   "outputs": [
    {
     "name": "stdout",
     "output_type": "stream",
     "text": [
      "Epoch 1/20\n",
      "1688/1688 [==============================] - 2s 1ms/step - loss: 4.4070 - accuracy: 0.1013 - val_loss: 3.8736 - val_accuracy: 0.1325\n",
      "Epoch 2/20\n",
      "1688/1688 [==============================] - 2s 973us/step - loss: 3.6243 - accuracy: 0.1447 - val_loss: 3.5915 - val_accuracy: 0.0965\n",
      "Epoch 3/20\n",
      "1688/1688 [==============================] - 2s 962us/step - loss: 2.1866 - accuracy: 0.2533 - val_loss: 1.7975 - val_accuracy: 0.2703\n",
      "Epoch 4/20\n",
      "1688/1688 [==============================] - 2s 961us/step - loss: 3.8203 - accuracy: 0.1867 - val_loss: 4.9297 - val_accuracy: 0.0985\n",
      "Epoch 5/20\n",
      "1688/1688 [==============================] - 2s 970us/step - loss: 3.2776 - accuracy: 0.1497 - val_loss: 1.9559 - val_accuracy: 0.2038\n",
      "Epoch 6/20\n",
      "1688/1688 [==============================] - 2s 977us/step - loss: 2.2073 - accuracy: 0.1917 - val_loss: 3.7300 - val_accuracy: 0.1207\n",
      "Epoch 7/20\n",
      "1688/1688 [==============================] - 2s 1ms/step - loss: 3.7566 - accuracy: 0.1241 - val_loss: 3.5936 - val_accuracy: 0.1492\n",
      "Epoch 8/20\n",
      "1688/1688 [==============================] - 2s 1ms/step - loss: 3.7143 - accuracy: 0.1388 - val_loss: 3.5958 - val_accuracy: 0.1563\n",
      "Epoch 9/20\n",
      "1688/1688 [==============================] - 2s 1ms/step - loss: 3.6975 - accuracy: 0.1482 - val_loss: 3.6161 - val_accuracy: 0.1712\n",
      "Epoch 10/20\n",
      "1688/1688 [==============================] - 2s 1ms/step - loss: 3.6765 - accuracy: 0.1370 - val_loss: 3.5322 - val_accuracy: 0.1215\n",
      "Epoch 11/20\n",
      "1688/1688 [==============================] - 2s 1ms/step - loss: 3.6708 - accuracy: 0.1276 - val_loss: 3.6723 - val_accuracy: 0.0980\n",
      "Epoch 12/20\n",
      "1688/1688 [==============================] - 2s 1ms/step - loss: 4.4492 - accuracy: 0.1028 - val_loss: 5.1290 - val_accuracy: 0.1072\n",
      "Epoch 13/20\n",
      "1688/1688 [==============================] - 2s 1ms/step - loss: 4.9721 - accuracy: 0.1010 - val_loss: 3.5920 - val_accuracy: 0.1082\n",
      "Epoch 14/20\n",
      "1688/1688 [==============================] - 2s 1ms/step - loss: 3.7483 - accuracy: 0.1227 - val_loss: 3.6243 - val_accuracy: 0.1457\n",
      "Epoch 15/20\n",
      "1688/1688 [==============================] - 2s 1ms/step - loss: 3.7532 - accuracy: 0.1346 - val_loss: 3.6215 - val_accuracy: 0.1393\n",
      "Epoch 16/20\n",
      "1688/1688 [==============================] - 2s 1ms/step - loss: 3.7543 - accuracy: 0.1363 - val_loss: 3.6293 - val_accuracy: 0.1442\n",
      "Epoch 17/20\n",
      "1688/1688 [==============================] - 2s 997us/step - loss: 3.7550 - accuracy: 0.1375 - val_loss: 3.6218 - val_accuracy: 0.1372\n",
      "Epoch 18/20\n",
      "1688/1688 [==============================] - 2s 964us/step - loss: 3.7514 - accuracy: 0.1352 - val_loss: 3.6266 - val_accuracy: 0.1455\n",
      "Epoch 19/20\n",
      "1688/1688 [==============================] - 2s 1ms/step - loss: 3.7553 - accuracy: 0.1381 - val_loss: 3.6268 - val_accuracy: 0.1447\n",
      "Epoch 20/20\n",
      "1688/1688 [==============================] - 2s 1ms/step - loss: 3.7557 - accuracy: 0.1419 - val_loss: 3.6215 - val_accuracy: 0.1403\n"
     ]
    },
    {
     "data": {
      "text/plain": [
       "<keras.src.callbacks.History at 0x128348e50>"
      ]
     },
     "execution_count": 93,
     "metadata": {},
     "output_type": "execute_result"
    }
   ],
   "source": [
    "model.fit(X_train, y_train, epochs=20, callbacks=[tensorboard], validation_split=0.1)"
   ]
  },
  {
   "cell_type": "code",
   "execution_count": 94,
   "id": "6cae1aad-45fb-4cf9-88e7-d6c2ff067362",
   "metadata": {},
   "outputs": [
    {
     "name": "stdout",
     "output_type": "stream",
     "text": [
      "313/313 [==============================] - 0s 535us/step\n"
     ]
    },
    {
     "data": {
      "text/plain": [
       "array([[ 370.8873  ,  273.3206  ,   88.144646, ...,  -76.66304 ,\n",
       "         381.39432 ,  299.3894  ],\n",
       "       [ 997.6204  ,  881.45    ,  485.2092  , ..., -417.5423  ,\n",
       "         918.0166  ,  380.74857 ],\n",
       "       [ 458.37115 ,  457.87878 ,  212.09906 , ..., -186.5584  ,\n",
       "         466.73798 ,  187.78024 ],\n",
       "       ...,\n",
       "       [ 651.5129  ,  548.52094 ,  239.59052 , ..., -215.27867 ,\n",
       "         618.98395 ,  347.0391  ],\n",
       "       [ 313.11218 ,  307.24536 ,  136.75504 , ..., -119.22866 ,\n",
       "         323.127   ,  147.72227 ],\n",
       "       [ 294.8104  ,  224.22739 ,   81.44745 , ...,  -72.895515,\n",
       "         299.44257 ,  210.91179 ]], dtype=float32)"
      ]
     },
     "execution_count": 94,
     "metadata": {},
     "output_type": "execute_result"
    }
   ],
   "source": [
    "model.predict(X_test)"
   ]
  },
  {
   "cell_type": "code",
   "execution_count": 95,
   "id": "33127a74-d579-4e2d-a1b0-6832569324c6",
   "metadata": {},
   "outputs": [],
   "source": [
    "import numpy as np"
   ]
  },
  {
   "cell_type": "code",
   "execution_count": 96,
   "id": "56422853-f5f4-4059-b534-05d5fd1c2889",
   "metadata": {},
   "outputs": [
    {
     "name": "stdout",
     "output_type": "stream",
     "text": [
      "1/1 [==============================] - 0s 15ms/step\n",
      "Prediction: koszulka\n",
      "Confidence: 685.0898\n",
      "Truth: pulower\n"
     ]
    },
    {
     "data": {
      "image/png": "[encoded data removed]",
      "text/plain": [
       "<Figure size 640x480 with 1 Axes>"
      ]
     },
     "metadata": {},
     "output_type": "display_data"
    }
   ],
   "source": [
    "image_index = np.random.randint(len(X_test))\n",
    "image = np.array([X_test[image_index]])\n",
    "confidences = model.predict(image)\n",
    "confidence = np.max(confidences[0])\n",
    "prediction = np.argmax(confidences[0])\n",
    "print(\"Prediction:\", class_names[prediction])\n",
    "print(\"Confidence:\", confidence)\n",
    "print(\"Truth:\", class_names[y_test[image_index]])\n",
    "plt.imshow(image[0], cmap=\"binary\")\n",
    "plt.axis('off')\n",
    "plt.show()"
   ]
  },
  {
   "cell_type": "code",
   "execution_count": 22,
   "id": "952f5071-ea21-4c09-884a-6473c7f0ec6f",
   "metadata": {},
   "outputs": [],
   "source": [
    "import pickle"
   ]
  },
  {
   "cell_type": "code",
   "execution_count": 23,
   "id": "7417eb2b-ecf6-4e1e-8a3a-a8ba6d64427b",
   "metadata": {},
   "outputs": [],
   "source": [
    "with open('fashion_clf.keras', 'wb') as f:\n",
    "    pickle.dump(model, f)"
   ]
  },
  {
   "cell_type": "code",
   "execution_count": 24,
   "id": "ad2f7ae8-0e87-466a-aa48-562035c7db28",
   "metadata": {},
   "outputs": [],
   "source": [
    "from sklearn.datasets import fetch_california_housing\n",
    "from sklearn.model_selection import train_test_split\n",
    "from sklearn.preprocessing import StandardScaler"
   ]
  },
  {
   "cell_type": "code",
   "execution_count": 25,
   "id": "f70a4b74-ebc9-48c1-aa36-64f7aea66175",
   "metadata": {},
   "outputs": [],
   "source": [
    "housing = fetch_california_housing()"
   ]
  },
  {
   "cell_type": "code",
   "execution_count": 26,
   "id": "8794ee79-5303-4590-a84a-4228ad2e9b45",
   "metadata": {},
   "outputs": [
    {
     "data": {
      "text/plain": [
       "{'data': array([[   8.3252    ,   41.        ,    6.98412698, ...,    2.55555556,\n",
       "           37.88      , -122.23      ],\n",
       "        [   8.3014    ,   21.        ,    6.23813708, ...,    2.10984183,\n",
       "           37.86      , -122.22      ],\n",
       "        [   7.2574    ,   52.        ,    8.28813559, ...,    2.80225989,\n",
       "           37.85      , -122.24      ],\n",
       "        ...,\n",
       "        [   1.7       ,   17.        ,    5.20554273, ...,    2.3256351 ,\n",
       "           39.43      , -121.22      ],\n",
       "        [   1.8672    ,   18.        ,    5.32951289, ...,    2.12320917,\n",
       "           39.43      , -121.32      ],\n",
       "        [   2.3886    ,   16.        ,    5.25471698, ...,    2.61698113,\n",
       "           39.37      , -121.24      ]]),\n",
       " 'target': array([4.526, 3.585, 3.521, ..., 0.923, 0.847, 0.894]),\n",
       " 'frame': None,\n",
       " 'target_names': ['MedHouseVal'],\n",
       " 'feature_names': ['MedInc',\n",
       "  'HouseAge',\n",
       "  'AveRooms',\n",
       "  'AveBedrms',\n",
       "  'Population',\n",
       "  'AveOccup',\n",
       "  'Latitude',\n",
       "  'Longitude'],\n",
       " 'DESCR': '.. _california_housing_dataset:\\n\\nCalifornia Housing dataset\\n--------------------------\\n\\n**Data Set Characteristics:**\\n\\n:Number of Instances: 20640\\n\\n:Number of Attributes: 8 numeric, predictive attributes and the target\\n\\n:Attribute Information:\\n    - MedInc        median income in block group\\n    - HouseAge      median house age in block group\\n    - AveRooms      average number of rooms per household\\n    - AveBedrms     average number of bedrooms per household\\n    - Population    block group population\\n    - AveOccup      average number of household members\\n    - Latitude      block group latitude\\n    - Longitude     block group longitude\\n\\n:Missing Attribute Values: None\\n\\nThis dataset was obtained from the StatLib repository.\\nhttps://www.dcc.fc.up.pt/~ltorgo/Regression/cal_housing.html\\n\\nThe target variable is the median house value for California districts,\\nexpressed in hundreds of thousands of dollars ($100,000).\\n\\nThis dataset was derived from the 1990 U.S. census, using one row per census\\nblock group. A block group is the smallest geographical unit for which the U.S.\\nCensus Bureau publishes sample data (a block group typically has a population\\nof 600 to 3,000 people).\\n\\nA household is a group of people residing within a home. Since the average\\nnumber of rooms and bedrooms in this dataset are provided per household, these\\ncolumns may take surprisingly large values for block groups with few households\\nand many empty houses, such as vacation resorts.\\n\\nIt can be downloaded/loaded using the\\n:func:`sklearn.datasets.fetch_california_housing` function.\\n\\n.. topic:: References\\n\\n    - Pace, R. Kelley and Ronald Barry, Sparse Spatial Autoregressions,\\n      Statistics and Probability Letters, 33 (1997) 291-297\\n'}"
      ]
     },
     "execution_count": 26,
     "metadata": {},
     "output_type": "execute_result"
    }
   ],
   "source": [
    "housing"
   ]
  },
  {
   "cell_type": "code",
   "execution_count": 27,
   "id": "bd7f80f4-f88d-46e9-a1f9-7dc7d538c9b0",
   "metadata": {},
   "outputs": [],
   "source": [
    "X_train, X_test, y_train, y_test = train_test_split(housing.data, housing.target, test_size=0.2)"
   ]
  },
  {
   "cell_type": "code",
   "execution_count": 28,
   "id": "b6fa8c22-0ca3-4659-9662-a89a78c4dd8b",
   "metadata": {},
   "outputs": [],
   "source": [
    "model = tf.keras.models.Sequential()"
   ]
  },
  {
   "cell_type": "code",
   "execution_count": 29,
   "id": "c6e5713f-c4e7-4c2f-9bd0-4ecc0c8ab116",
   "metadata": {},
   "outputs": [],
   "source": [
    "model.add(tf.keras.layers.Normalization(axis=-1))\n",
    "model.add(tf.keras.layers.Dense(50))\n",
    "model.add(tf.keras.layers.Dense(50))\n",
    "model.add(tf.keras.layers.Dense(50))\n",
    "model.add(tf.keras.layers.Dense(units=1))"
   ]
  },
  {
   "cell_type": "code",
   "execution_count": 30,
   "id": "49f12e0b-54cf-452d-a006-4776e38c8c40",
   "metadata": {},
   "outputs": [],
   "source": [
    "model.compile(loss='mean_squared_error', optimizer='adam', metrics=['mae'])"
   ]
  },
  {
   "cell_type": "code",
   "execution_count": 31,
   "id": "35377acc-268c-44b9-929a-1feae19004ba",
   "metadata": {},
   "outputs": [],
   "source": [
    "def generate_log_dir():\n",
    "    current_time = time.strftime(\"%Y%m%d-%H%M%S\")\n",
    "    log_dir = os.path.join(\"housing_logs\", current_time)\n",
    "    return log_dir\n",
    "\n",
    "if not os.path.exists(\"housing_logs\"):\n",
    "    os.makedirs(\"housing_logs\")\n",
    "\n",
    "log_dir = generate_log_dir()"
   ]
  },
  {
   "cell_type": "code",
   "execution_count": 32,
   "id": "7ffb2523-bf76-4069-99c9-8aedfbd3d480",
   "metadata": {},
   "outputs": [],
   "source": [
    "callback_early = tf.keras.callbacks.EarlyStopping(patience=5, min_delta=0.1, verbose=1, monitor='loss')"
   ]
  },
  {
   "cell_type": "code",
   "execution_count": 33,
   "id": "c527341a-a992-4ea5-be31-0037a106eda7",
   "metadata": {},
   "outputs": [],
   "source": [
    "callback_board = tf.keras.callbacks.TensorBoard(log_dir=log_dir)"
   ]
  },
  {
   "cell_type": "code",
   "execution_count": 34,
   "id": "fb4fa8a4-f466-4c4e-ba44-83c24fb3359b",
   "metadata": {},
   "outputs": [
    {
     "name": "stdout",
     "output_type": "stream",
     "text": [
      "Epoch 1/20\n",
      "516/516 [==============================] - 0s 485us/step - loss: 2484.2969 - mae: 10.2723\n",
      "Epoch 2/20\n",
      "516/516 [==============================] - 0s 475us/step - loss: 2.3023 - mae: 1.0390\n",
      "Epoch 3/20\n",
      "516/516 [==============================] - 0s 476us/step - loss: 2.4857 - mae: 0.9611\n",
      "Epoch 4/20\n",
      "516/516 [==============================] - 0s 477us/step - loss: 1.6417 - mae: 0.9212\n",
      "Epoch 5/20\n",
      "516/516 [==============================] - 0s 477us/step - loss: 458.2977 - mae: 5.9713\n",
      "Epoch 6/20\n",
      "516/516 [==============================] - 0s 481us/step - loss: 0.9169 - mae: 0.7461\n",
      "Epoch 7/20\n",
      "516/516 [==============================] - 0s 485us/step - loss: 1.0876 - mae: 0.7687\n",
      "Epoch 8/20\n",
      "516/516 [==============================] - 0s 485us/step - loss: 2.1346 - mae: 0.9531\n",
      "Epoch 9/20\n",
      "516/516 [==============================] - 0s 485us/step - loss: 1.3024 - mae: 0.8019\n",
      "Epoch 10/20\n",
      "516/516 [==============================] - 0s 486us/step - loss: 47.6463 - mae: 3.1183\n",
      "Epoch 11/20\n",
      "516/516 [==============================] - 0s 486us/step - loss: 3.9439 - mae: 1.2167\n",
      "Epoch 11: early stopping\n"
     ]
    }
   ],
   "source": [
    "history = model.fit(X_train, y_train, epochs=20, callbacks=[callback_early, callback_board])"
   ]
  },
  {
   "cell_type": "code",
   "execution_count": 35,
   "id": "9954e87e-ab01-4bf9-9566-d476e992043c",
   "metadata": {
    "scrolled": true
   },
   "outputs": [
    {
     "data": {
      "image/png": "[encoded data removed]",
      "text/plain": [
       "<Figure size 640x480 with 1 Axes>"
      ]
     },
     "metadata": {},
     "output_type": "display_data"
    }
   ],
   "source": [
    "plt.plot(history.history['loss'], label='Training Loss')\n",
    "plt.plot(history.history['loss'], label='Validation Loss')\n",
    "plt.xlabel('Epochs')\n",
    "plt.ylabel('Loss')\n",
    "plt.legend()\n",
    "plt.show()"
   ]
  },
  {
   "cell_type": "code",
   "execution_count": 36,
   "id": "2140c3d6-1131-43f9-a39e-3a11b11a1469",
   "metadata": {},
   "outputs": [],
   "source": [
    "with open('reg_housing_1.keras', 'wb') as f:\n",
    "    pickle.dump(model, f)"
   ]
  },
  {
   "cell_type": "code",
   "execution_count": 37,
   "id": "633c253d-d048-4026-b056-7f7fea23fd99",
   "metadata": {},
   "outputs": [],
   "source": [
    "model = tf.keras.models.Sequential()"
   ]
  },
  {
   "cell_type": "code",
   "execution_count": 38,
   "id": "28762341-02bb-4dd1-8e39-09d50dc932dc",
   "metadata": {},
   "outputs": [],
   "source": [
    "model.add(tf.keras.layers.Normalization())\n",
    "model.add(tf.keras.layers.Dense(100))\n",
    "model.add(tf.keras.layers.Dense(units=1))"
   ]
  },
  {
   "cell_type": "code",
   "execution_count": 39,
   "id": "cb2793e0-18e4-4d7f-a2e7-21c1bb86872e",
   "metadata": {},
   "outputs": [],
   "source": [
    "def generate_log_dir():\n",
    "    current_time = time.strftime(\"%Y%m%d-%H%M%S\")\n",
    "    log_dir = os.path.join(\"housing_logs/1\", current_time)\n",
    "    return log_dir\n",
    "\n",
    "if not os.path.exists(\"housing_logs/1\"):\n",
    "    os.makedirs(\"housing_logs/1\")\n",
    "\n",
    "log_dir = generate_log_dir()"
   ]
  },
  {
   "cell_type": "code",
   "execution_count": 40,
   "id": "bdaa4592-d7b4-45c5-b536-99088b0ca354",
   "metadata": {},
   "outputs": [],
   "source": [
    "model.compile(loss='mean_squared_error', optimizer='adam', metrics=['mae'])"
   ]
  },
  {
   "cell_type": "code",
   "execution_count": 41,
   "id": "4ac5667d-2292-43bd-a448-23c7227d20a0",
   "metadata": {},
   "outputs": [
    {
     "name": "stdout",
     "output_type": "stream",
     "text": [
      "Epoch 1/10\n",
      "516/516 [==============================] - 0s 411us/step - loss: 2347.7285 - mae: 12.4451\n",
      "Epoch 2/10\n",
      "516/516 [==============================] - 0s 412us/step - loss: 2.4676 - mae: 1.2059\n",
      "Epoch 3/10\n",
      "516/516 [==============================] - 0s 401us/step - loss: 1.0426 - mae: 0.7719\n",
      "Epoch 4/10\n",
      "516/516 [==============================] - 0s 402us/step - loss: 0.8803 - mae: 0.7059\n",
      "Epoch 5/10\n",
      "516/516 [==============================] - 0s 405us/step - loss: 1.6851 - mae: 0.7673\n",
      "Epoch 6/10\n",
      "516/516 [==============================] - 0s 403us/step - loss: 1.8312 - mae: 0.8044\n",
      "Epoch 7/10\n",
      "516/516 [==============================] - 0s 399us/step - loss: 1.4488 - mae: 0.8061\n",
      "Epoch 8/10\n",
      "516/516 [==============================] - 0s 404us/step - loss: 62.0007 - mae: 2.6745\n",
      "Epoch 9/10\n",
      "516/516 [==============================] - 0s 402us/step - loss: 1.6582 - mae: 0.8336\n",
      "Epoch 9: early stopping\n"
     ]
    }
   ],
   "source": [
    "history = model.fit(X_train, y_train, epochs=10, callbacks=[callback_early, callback_board])"
   ]
  },
  {
   "cell_type": "code",
   "execution_count": 42,
   "id": "fb1e5b61-e7bf-4963-9a48-7c981eb35f1a",
   "metadata": {},
   "outputs": [],
   "source": [
    "with open('reg_housing_2.keras', 'wb') as f:\n",
    "    pickle.dump(model, f)"
   ]
  },
  {
   "cell_type": "code",
   "execution_count": 43,
   "id": "87198ed9-4622-4943-930f-5d727bc2c674",
   "metadata": {},
   "outputs": [
    {
     "data": {
      "text/plain": [
       "<matplotlib.legend.Legend at 0x304d1f400>"
      ]
     },
     "execution_count": 43,
     "metadata": {},
     "output_type": "execute_result"
    },
    {
     "data": {
      "image/png": "[encoded data removed]",
      "text/plain": [
       "<Figure size 640x480 with 1 Axes>"
      ]
     },
     "metadata": {},
     "output_type": "display_data"
    }
   ],
   "source": [
    "plt.plot(history.history['loss'], label='Training Loss')\n",
    "plt.plot(history.history['loss'], label='Validation Loss')\n",
    "plt.xlabel('Epochs')\n",
    "plt.ylabel('Loss')\n",
    "plt.legend()"
   ]
  },
  {
   "cell_type": "code",
   "execution_count": 44,
   "id": "3aa88129-b5dc-4e63-ac46-7f7db003544f",
   "metadata": {},
   "outputs": [],
   "source": [
    "def generate_log_dir():\n",
    "    current_time = time.strftime(\"%Y%m%d-%H%M%S\")\n",
    "    log_dir = os.path.join(\"housing_logs/2\", current_time)\n",
    "    return log_dir\n",
    "\n",
    "if not os.path.exists(\"housing_logs/2\"):\n",
    "    os.makedirs(\"housing_logs/2\")\n",
    "\n",
    "log_dir = generate_log_dir()"
   ]
  },
  {
   "cell_type": "code",
   "execution_count": 45,
   "id": "54fbd604-f154-4d6b-8bb3-f030f4a6cee1",
   "metadata": {},
   "outputs": [],
   "source": [
    "model = tf.keras.models.Sequential()"
   ]
  },
  {
   "cell_type": "code",
   "execution_count": 46,
   "id": "59ff7008-ec6c-4d8b-94a6-b4e151c4c139",
   "metadata": {},
   "outputs": [],
   "source": [
    "model.add(tf.keras.layers.Normalization())\n",
    "model.add(tf.keras.layers.Dense(100))\n",
    "model.add(tf.keras.layers.Dense(75))\n",
    "model.add(tf.keras.layers.Dense(50))\n",
    "model.add(tf.keras.layers.Dense(25))\n",
    "model.add(tf.keras.layers.Dense(units=1))"
   ]
  },
  {
   "cell_type": "code",
   "execution_count": 47,
   "id": "db0d9eaf-c3cb-47b4-823f-b79d164f114a",
   "metadata": {},
   "outputs": [],
   "source": [
    "model.compile(loss='mean_squared_error', optimizer='adam', metrics=['mae'])"
   ]
  },
  {
   "cell_type": "code",
   "execution_count": 48,
   "id": "7fe1c91d-db40-4f25-bdf2-9db58551922a",
   "metadata": {},
   "outputs": [
    {
     "name": "stdout",
     "output_type": "stream",
     "text": [
      "Epoch 1/20\n",
      "516/516 [==============================] - 0s 571us/step - loss: 8977.3008 - mae: 20.7692\n",
      "Epoch 2/20\n",
      "516/516 [==============================] - 0s 576us/step - loss: 2.2133 - mae: 0.9434\n",
      "Epoch 3/20\n",
      "516/516 [==============================] - 0s 576us/step - loss: 1.5830 - mae: 0.8281\n",
      "Epoch 4/20\n",
      "516/516 [==============================] - 0s 573us/step - loss: 7.5556 - mae: 1.3848\n",
      "Epoch 5/20\n",
      "516/516 [==============================] - 0s 574us/step - loss: 34.4579 - mae: 2.6793\n",
      "Epoch 6/20\n",
      "516/516 [==============================] - 0s 576us/step - loss: 18.5543 - mae: 2.1006\n",
      "Epoch 7/20\n",
      "516/516 [==============================] - 0s 578us/step - loss: 3628.2283 - mae: 13.9055\n",
      "Epoch 8/20\n",
      "516/516 [==============================] - 0s 573us/step - loss: 2.9097 - mae: 1.3381\n",
      "Epoch 8: early stopping\n"
     ]
    }
   ],
   "source": [
    "history = model.fit(X_train, y_train, epochs=20, callbacks=[callback_early, callback_board])"
   ]
  },
  {
   "cell_type": "code",
   "execution_count": 49,
   "id": "7ddb22ac-2670-49be-b5bf-5ebf083e7bb2",
   "metadata": {},
   "outputs": [
    {
     "data": {
      "text/plain": [
       "<matplotlib.legend.Legend at 0x305d36e50>"
      ]
     },
     "execution_count": 49,
     "metadata": {},
     "output_type": "execute_result"
    },
    {
     "data": {
      "image/png": "[encoded data removed]",
      "text/plain": [
       "<Figure size 640x480 with 1 Axes>"
      ]
     },
     "metadata": {},
     "output_type": "display_data"
    }
   ],
   "source": [
    "plt.plot(history.history['loss'], label='Training Loss')\n",
    "plt.plot(history.history['loss'], label='Validation Loss')\n",
    "plt.xlabel('Epochs')\n",
    "plt.ylabel('Loss')\n",
    "plt.legend()"
   ]
  },
  {
   "cell_type": "code",
   "execution_count": 50,
   "id": "6b820be4-b85d-46c1-a21b-8fb1c90192cc",
   "metadata": {},
   "outputs": [],
   "source": [
    "with open('reg_housing_3.keras', 'wb') as f:\n",
    "    pickle.dump(model, f)"
   ]
  },
  {
   "cell_type": "code",
   "execution_count": null,
   "id": "f96f8c1c-3ec5-4c49-9950-4d5b5bb1781c",
   "metadata": {},
   "outputs": [],
   "source": []
  }
 ],
 "metadata": {
  "kernelspec": {
   "display_name": "Python 3 (ipykernel)",
   "language": "python",
   "name": "python3"
  },
  "language_info": {
   "codemirror_mode": {
    "name": "ipython",
    "version": 3
   },
   "file_extension": ".py",
   "mimetype": "text/x-python",
   "name": "python",
   "nbconvert_exporter": "python",
   "pygments_lexer": "ipython3",
   "version": "3.9.19"
  }
 },
 "nbformat": 4,
 "nbformat_minor": 5
}
