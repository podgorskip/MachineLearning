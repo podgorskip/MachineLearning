{
 "cells": [
  {
   "cell_type": "code",
   "execution_count": 54,
   "id": "034e27f9-a72a-4e8e-9713-3bc29f7e06cc",
   "metadata": {},
   "outputs": [],
   "source": [
    "from sklearn.datasets import fetch_california_housing\n",
    "from sklearn.model_selection import train_test_split\n",
    "from sklearn.preprocessing import StandardScaler"
   ]
  },
  {
   "cell_type": "code",
   "execution_count": 55,
   "id": "f3e3c1c4-64a6-45de-aa99-d216117971b1",
   "metadata": {},
   "outputs": [],
   "source": [
    "housing = fetch_california_housing()"
   ]
  },
  {
   "cell_type": "code",
   "execution_count": 56,
   "id": "f13e1c94-8bf1-4a9f-afa9-cbcd60a44454",
   "metadata": {},
   "outputs": [],
   "source": [
    "X_train_full, X_test, y_train_full, y_test = train_test_split(housing.data, housing.target)"
   ]
  },
  {
   "cell_type": "code",
   "execution_count": 57,
   "id": "18702277-c99e-44f4-86ef-85680c007bd4",
   "metadata": {},
   "outputs": [],
   "source": [
    "X_train, X_valid, y_train, y_valid = train_test_split(X_train_full, y_train_full)"
   ]
  },
  {
   "cell_type": "code",
   "execution_count": 58,
   "id": "b12abb6d-916b-4891-8ab9-387915ad9bb7",
   "metadata": {},
   "outputs": [],
   "source": [
    "scaler = StandardScaler()"
   ]
  },
  {
   "cell_type": "code",
   "execution_count": 59,
   "id": "eb8e69de-3372-4cc2-91d7-dab8231d5041",
   "metadata": {},
   "outputs": [],
   "source": [
    "X_train = scaler.fit_transform(X_train)\n",
    "X_valid = scaler.transform(X_valid)\n",
    "X_test = scaler.transform(X_test)"
   ]
  },
  {
   "cell_type": "code",
   "execution_count": 60,
   "id": "fdfe1cb2-0c0c-4f83-afde-03de3a72c860",
   "metadata": {},
   "outputs": [],
   "source": [
    "from scipy.stats import reciprocal "
   ]
  },
  {
   "cell_type": "code",
   "execution_count": 61,
   "id": "8adffad6-da2a-4df5-b3ae-7d0b54cc916f",
   "metadata": {},
   "outputs": [],
   "source": [
    "import numpy as np"
   ]
  },
  {
   "cell_type": "code",
   "execution_count": 70,
   "id": "dcccf944-7422-4c39-96d1-e98bfc5ed5aa",
   "metadata": {},
   "outputs": [],
   "source": [
    "param_distribs = {\n",
    "    \"model__n_hidden\": [0, 1, 2, 3],\n",
    "    \"model__n_neurons\": np.arange(1, 100),\n",
    "    \"model__learning_rate\": reciprocal(3e-4, 3e-2).rvs(1000).tolist(),\n",
    "    \"model__optimizer\": [\"adam\", \"sgd\", \"nesterov\"]\n",
    "}"
   ]
  },
  {
   "cell_type": "code",
   "execution_count": 72,
   "id": "57a8f644-80a9-4de9-9cb7-3cc0ed827304",
   "metadata": {},
   "outputs": [],
   "source": [
    "from sklearn.model_selection import RandomizedSearchCV"
   ]
  },
  {
   "cell_type": "code",
   "execution_count": 73,
   "id": "4be200a3-6bf3-417e-8007-b48ec5480522",
   "metadata": {},
   "outputs": [],
   "source": [
    "import tensorflow as tf"
   ]
  },
  {
   "cell_type": "code",
   "execution_count": 74,
   "id": "35aa4357-313b-405c-ba3f-dd29b275f0ba",
   "metadata": {},
   "outputs": [],
   "source": [
    "import scikeras\n",
    "from scikeras.wrappers import KerasRegressor "
   ]
  },
  {
   "cell_type": "code",
   "execution_count": 80,
   "id": "59ebfb3b-47ec-4a98-9c52-f06c54b8788f",
   "metadata": {},
   "outputs": [],
   "source": [
    "def build_model(n_hidden, n_neurons, optimizer, learning_rate):\n",
    "    model = tf.keras.models.Sequential()\n",
    "    #model.add(tf.keras.layers.InputLayer())\n",
    "    for _ in range(n_hidden):\n",
    "        model.add(tf.keras.layers.Dense(n_neurons, activation=\"relu\"))\n",
    "    model.add(tf.keras.layers.Dense(1))\n",
    "\n",
    "    if optimizer == \"adam\":\n",
    "        optimizer = tf.keras.optimizers.Adam(learning_rate=learning_rate)\n",
    "    elif optimizer == \"sgd\":\n",
    "        optimizer = tf.keras.optimizers.SGD(learning_rate=learning_rate)\n",
    "    elif optimizer == \"nesterov\": \n",
    "        optimizer = tf.keras.optimizers.SGD(learning_rate=learning_rate, nevsterov=True)\n",
    "        \n",
    "    model.compile(loss='mse', optimizer=optimizer)\n",
    "    return model"
   ]
  },
  {
   "cell_type": "code",
   "execution_count": 76,
   "id": "c53090cc-76f8-4753-8f88-6c1cee84a25f",
   "metadata": {},
   "outputs": [],
   "source": [
    "es = tf.keras.callbacks.EarlyStopping(patience=10, min_delta=1.0, verbose=1)"
   ]
  },
  {
   "cell_type": "code",
   "execution_count": 77,
   "id": "ffae8b00-9309-4a43-91b7-d6daa155806d",
   "metadata": {},
   "outputs": [],
   "source": [
    "keras_reg = KerasRegressor(build_model, callbacks=[es])"
   ]
  },
  {
   "cell_type": "code",
   "execution_count": 79,
   "id": "d2025183-30cf-41fc-9805-14dc2fbf10b8",
   "metadata": {},
   "outputs": [
    {
     "name": "stdout",
     "output_type": "stream",
     "text": [
      "Fitting 3 folds for each of 5 candidates, totalling 15 fits\n",
      "[CV] END model__learning_rate=0.0006641135480962027, model__n_hidden=3, model__n_neurons=76, model__optimizer=nesterov; total time=   0.0s\n",
      "[CV] END model__learning_rate=0.0006641135480962027, model__n_hidden=3, model__n_neurons=76, model__optimizer=nesterov; total time=   0.0s\n",
      "[CV] END model__learning_rate=0.0006641135480962027, model__n_hidden=3, model__n_neurons=76, model__optimizer=nesterov; total time=   0.0s\n",
      "[CV] END model__learning_rate=0.00039339653284539185, model__n_hidden=3, model__n_neurons=81, model__optimizer=adam; total time=   0.0s\n",
      "[CV] END model__learning_rate=0.00039339653284539185, model__n_hidden=3, model__n_neurons=81, model__optimizer=adam; total time=   0.0s\n",
      "[CV] END model__learning_rate=0.00039339653284539185, model__n_hidden=3, model__n_neurons=81, model__optimizer=adam; total time=   0.0s\n",
      "[CV] END model__learning_rate=0.0043502747045543935, model__n_hidden=0, model__n_neurons=25, model__optimizer=adam; total time=   0.0s\n",
      "[CV] END model__learning_rate=0.0043502747045543935, model__n_hidden=0, model__n_neurons=25, model__optimizer=adam; total time=   0.0s\n",
      "[CV] END model__learning_rate=0.0043502747045543935, model__n_hidden=0, model__n_neurons=25, model__optimizer=adam; total time=   0.0s\n",
      "[CV] END model__learning_rate=0.0005175743225341247, model__n_hidden=2, model__n_neurons=4, model__optimizer=adam; total time=   0.0s\n",
      "[CV] END model__learning_rate=0.0005175743225341247, model__n_hidden=2, model__n_neurons=4, model__optimizer=adam; total time=   0.0s\n",
      "[CV] END model__learning_rate=0.0005175743225341247, model__n_hidden=2, model__n_neurons=4, model__optimizer=adam; total time=   0.0s\n",
      "[CV] END model__learning_rate=0.002507230476769959, model__n_hidden=1, model__n_neurons=87, model__optimizer=adam; total time=   0.0s\n",
      "[CV] END model__learning_rate=0.002507230476769959, model__n_hidden=1, model__n_neurons=87, model__optimizer=adam; total time=   0.0s\n",
      "[CV] END model__learning_rate=0.002507230476769959, model__n_hidden=1, model__n_neurons=87, model__optimizer=adam; total time=   0.0s\n"
     ]
    },
    {
     "ename": "ValueError",
     "evalue": "\nAll the 15 fits failed.\nIt is very likely that your model is misconfigured.\nYou can try to debug the error by setting error_score='raise'.\n\nBelow are more details about the failures:\n--------------------------------------------------------------------------------\n3 fits failed with the following error:\nTraceback (most recent call last):\n  File \"/opt/homebrew/Caskroom/miniforge/base/envs/ml/lib/python3.9/site-packages/sklearn/model_selection/_validation.py\", line 895, in _fit_and_score\n    estimator.fit(X_train, y_train, **fit_params)\n  File \"/opt/homebrew/Caskroom/miniforge/base/envs/ml/lib/python3.9/site-packages/scikeras/wrappers.py\", line 770, in fit\n    self._fit(\n  File \"/opt/homebrew/Caskroom/miniforge/base/envs/ml/lib/python3.9/site-packages/scikeras/wrappers.py\", line 925, in _fit\n    X, y = self._initialize(X, y)\n  File \"/opt/homebrew/Caskroom/miniforge/base/envs/ml/lib/python3.9/site-packages/scikeras/wrappers.py\", line 862, in _initialize\n    self.model_ = self._build_keras_model()\n  File \"/opt/homebrew/Caskroom/miniforge/base/envs/ml/lib/python3.9/site-packages/scikeras/wrappers.py\", line 433, in _build_keras_model\n    model = final_build_fn(**build_params)\n  File \"/var/folders/zl/gfmbc3kn5tldjp_tlzjkmjqw0000gn/T/ipykernel_70863/740750684.py\", line 13, in build_model\n    optimizer = tf.keras.optimizers.SGD(learning_rate=learning_rate, nevsterov=True)\n  File \"/opt/homebrew/Caskroom/miniforge/base/envs/ml/lib/python3.9/site-packages/keras/src/optimizers/sgd.py\", line 60, in __init__\n    super().__init__(\n  File \"/opt/homebrew/Caskroom/miniforge/base/envs/ml/lib/python3.9/site-packages/keras/src/backend/tensorflow/optimizer.py\", line 22, in __init__\n    super().__init__(*args, **kwargs)\n  File \"/opt/homebrew/Caskroom/miniforge/base/envs/ml/lib/python3.9/site-packages/keras/src/optimizers/base_optimizer.py\", line 37, in __init__\n    raise ValueError(f\"Argument(s) not recognized: {kwargs}\")\nValueError: Argument(s) not recognized: {'nevsterov': True}\n\n--------------------------------------------------------------------------------\n1 fits failed with the following error:\nTraceback (most recent call last):\n  File \"/opt/homebrew/Caskroom/miniforge/base/envs/ml/lib/python3.9/site-packages/sklearn/model_selection/_validation.py\", line 895, in _fit_and_score\n    estimator.fit(X_train, y_train, **fit_params)\n  File \"/opt/homebrew/Caskroom/miniforge/base/envs/ml/lib/python3.9/site-packages/scikeras/wrappers.py\", line 770, in fit\n    self._fit(\n  File \"/opt/homebrew/Caskroom/miniforge/base/envs/ml/lib/python3.9/site-packages/scikeras/wrappers.py\", line 936, in _fit\n    self._check_model_compatibility(y)\n  File \"/opt/homebrew/Caskroom/miniforge/base/envs/ml/lib/python3.9/site-packages/scikeras/wrappers.py\", line 559, in _check_model_compatibility\n    if self.n_outputs_expected_ != len(self.model_.outputs):\n  File \"/opt/homebrew/Caskroom/miniforge/base/envs/ml/lib/python3.9/site-packages/keras/src/models/sequential.py\", line 283, in outputs\n    raise ValueError(\nValueError: Sequential model 'sequential_183' has no defined outputs yet.\n\n--------------------------------------------------------------------------------\n1 fits failed with the following error:\nTraceback (most recent call last):\n  File \"/opt/homebrew/Caskroom/miniforge/base/envs/ml/lib/python3.9/site-packages/sklearn/model_selection/_validation.py\", line 895, in _fit_and_score\n    estimator.fit(X_train, y_train, **fit_params)\n  File \"/opt/homebrew/Caskroom/miniforge/base/envs/ml/lib/python3.9/site-packages/scikeras/wrappers.py\", line 770, in fit\n    self._fit(\n  File \"/opt/homebrew/Caskroom/miniforge/base/envs/ml/lib/python3.9/site-packages/scikeras/wrappers.py\", line 936, in _fit\n    self._check_model_compatibility(y)\n  File \"/opt/homebrew/Caskroom/miniforge/base/envs/ml/lib/python3.9/site-packages/scikeras/wrappers.py\", line 559, in _check_model_compatibility\n    if self.n_outputs_expected_ != len(self.model_.outputs):\n  File \"/opt/homebrew/Caskroom/miniforge/base/envs/ml/lib/python3.9/site-packages/keras/src/models/sequential.py\", line 283, in outputs\n    raise ValueError(\nValueError: Sequential model 'sequential_184' has no defined outputs yet.\n\n--------------------------------------------------------------------------------\n1 fits failed with the following error:\nTraceback (most recent call last):\n  File \"/opt/homebrew/Caskroom/miniforge/base/envs/ml/lib/python3.9/site-packages/sklearn/model_selection/_validation.py\", line 895, in _fit_and_score\n    estimator.fit(X_train, y_train, **fit_params)\n  File \"/opt/homebrew/Caskroom/miniforge/base/envs/ml/lib/python3.9/site-packages/scikeras/wrappers.py\", line 770, in fit\n    self._fit(\n  File \"/opt/homebrew/Caskroom/miniforge/base/envs/ml/lib/python3.9/site-packages/scikeras/wrappers.py\", line 936, in _fit\n    self._check_model_compatibility(y)\n  File \"/opt/homebrew/Caskroom/miniforge/base/envs/ml/lib/python3.9/site-packages/scikeras/wrappers.py\", line 559, in _check_model_compatibility\n    if self.n_outputs_expected_ != len(self.model_.outputs):\n  File \"/opt/homebrew/Caskroom/miniforge/base/envs/ml/lib/python3.9/site-packages/keras/src/models/sequential.py\", line 283, in outputs\n    raise ValueError(\nValueError: Sequential model 'sequential_185' has no defined outputs yet.\n\n--------------------------------------------------------------------------------\n1 fits failed with the following error:\nTraceback (most recent call last):\n  File \"/opt/homebrew/Caskroom/miniforge/base/envs/ml/lib/python3.9/site-packages/sklearn/model_selection/_validation.py\", line 895, in _fit_and_score\n    estimator.fit(X_train, y_train, **fit_params)\n  File \"/opt/homebrew/Caskroom/miniforge/base/envs/ml/lib/python3.9/site-packages/scikeras/wrappers.py\", line 770, in fit\n    self._fit(\n  File \"/opt/homebrew/Caskroom/miniforge/base/envs/ml/lib/python3.9/site-packages/scikeras/wrappers.py\", line 936, in _fit\n    self._check_model_compatibility(y)\n  File \"/opt/homebrew/Caskroom/miniforge/base/envs/ml/lib/python3.9/site-packages/scikeras/wrappers.py\", line 559, in _check_model_compatibility\n    if self.n_outputs_expected_ != len(self.model_.outputs):\n  File \"/opt/homebrew/Caskroom/miniforge/base/envs/ml/lib/python3.9/site-packages/keras/src/models/sequential.py\", line 283, in outputs\n    raise ValueError(\nValueError: Sequential model 'sequential_186' has no defined outputs yet.\n\n--------------------------------------------------------------------------------\n1 fits failed with the following error:\nTraceback (most recent call last):\n  File \"/opt/homebrew/Caskroom/miniforge/base/envs/ml/lib/python3.9/site-packages/sklearn/model_selection/_validation.py\", line 895, in _fit_and_score\n    estimator.fit(X_train, y_train, **fit_params)\n  File \"/opt/homebrew/Caskroom/miniforge/base/envs/ml/lib/python3.9/site-packages/scikeras/wrappers.py\", line 770, in fit\n    self._fit(\n  File \"/opt/homebrew/Caskroom/miniforge/base/envs/ml/lib/python3.9/site-packages/scikeras/wrappers.py\", line 936, in _fit\n    self._check_model_compatibility(y)\n  File \"/opt/homebrew/Caskroom/miniforge/base/envs/ml/lib/python3.9/site-packages/scikeras/wrappers.py\", line 559, in _check_model_compatibility\n    if self.n_outputs_expected_ != len(self.model_.outputs):\n  File \"/opt/homebrew/Caskroom/miniforge/base/envs/ml/lib/python3.9/site-packages/keras/src/models/sequential.py\", line 283, in outputs\n    raise ValueError(\nValueError: Sequential model 'sequential_187' has no defined outputs yet.\n\n--------------------------------------------------------------------------------\n1 fits failed with the following error:\nTraceback (most recent call last):\n  File \"/opt/homebrew/Caskroom/miniforge/base/envs/ml/lib/python3.9/site-packages/sklearn/model_selection/_validation.py\", line 895, in _fit_and_score\n    estimator.fit(X_train, y_train, **fit_params)\n  File \"/opt/homebrew/Caskroom/miniforge/base/envs/ml/lib/python3.9/site-packages/scikeras/wrappers.py\", line 770, in fit\n    self._fit(\n  File \"/opt/homebrew/Caskroom/miniforge/base/envs/ml/lib/python3.9/site-packages/scikeras/wrappers.py\", line 936, in _fit\n    self._check_model_compatibility(y)\n  File \"/opt/homebrew/Caskroom/miniforge/base/envs/ml/lib/python3.9/site-packages/scikeras/wrappers.py\", line 559, in _check_model_compatibility\n    if self.n_outputs_expected_ != len(self.model_.outputs):\n  File \"/opt/homebrew/Caskroom/miniforge/base/envs/ml/lib/python3.9/site-packages/keras/src/models/sequential.py\", line 283, in outputs\n    raise ValueError(\nValueError: Sequential model 'sequential_188' has no defined outputs yet.\n\n--------------------------------------------------------------------------------\n1 fits failed with the following error:\nTraceback (most recent call last):\n  File \"/opt/homebrew/Caskroom/miniforge/base/envs/ml/lib/python3.9/site-packages/sklearn/model_selection/_validation.py\", line 895, in _fit_and_score\n    estimator.fit(X_train, y_train, **fit_params)\n  File \"/opt/homebrew/Caskroom/miniforge/base/envs/ml/lib/python3.9/site-packages/scikeras/wrappers.py\", line 770, in fit\n    self._fit(\n  File \"/opt/homebrew/Caskroom/miniforge/base/envs/ml/lib/python3.9/site-packages/scikeras/wrappers.py\", line 936, in _fit\n    self._check_model_compatibility(y)\n  File \"/opt/homebrew/Caskroom/miniforge/base/envs/ml/lib/python3.9/site-packages/scikeras/wrappers.py\", line 559, in _check_model_compatibility\n    if self.n_outputs_expected_ != len(self.model_.outputs):\n  File \"/opt/homebrew/Caskroom/miniforge/base/envs/ml/lib/python3.9/site-packages/keras/src/models/sequential.py\", line 283, in outputs\n    raise ValueError(\nValueError: Sequential model 'sequential_189' has no defined outputs yet.\n\n--------------------------------------------------------------------------------\n1 fits failed with the following error:\nTraceback (most recent call last):\n  File \"/opt/homebrew/Caskroom/miniforge/base/envs/ml/lib/python3.9/site-packages/sklearn/model_selection/_validation.py\", line 895, in _fit_and_score\n    estimator.fit(X_train, y_train, **fit_params)\n  File \"/opt/homebrew/Caskroom/miniforge/base/envs/ml/lib/python3.9/site-packages/scikeras/wrappers.py\", line 770, in fit\n    self._fit(\n  File \"/opt/homebrew/Caskroom/miniforge/base/envs/ml/lib/python3.9/site-packages/scikeras/wrappers.py\", line 936, in _fit\n    self._check_model_compatibility(y)\n  File \"/opt/homebrew/Caskroom/miniforge/base/envs/ml/lib/python3.9/site-packages/scikeras/wrappers.py\", line 559, in _check_model_compatibility\n    if self.n_outputs_expected_ != len(self.model_.outputs):\n  File \"/opt/homebrew/Caskroom/miniforge/base/envs/ml/lib/python3.9/site-packages/keras/src/models/sequential.py\", line 283, in outputs\n    raise ValueError(\nValueError: Sequential model 'sequential_190' has no defined outputs yet.\n\n--------------------------------------------------------------------------------\n1 fits failed with the following error:\nTraceback (most recent call last):\n  File \"/opt/homebrew/Caskroom/miniforge/base/envs/ml/lib/python3.9/site-packages/sklearn/model_selection/_validation.py\", line 895, in _fit_and_score\n    estimator.fit(X_train, y_train, **fit_params)\n  File \"/opt/homebrew/Caskroom/miniforge/base/envs/ml/lib/python3.9/site-packages/scikeras/wrappers.py\", line 770, in fit\n    self._fit(\n  File \"/opt/homebrew/Caskroom/miniforge/base/envs/ml/lib/python3.9/site-packages/scikeras/wrappers.py\", line 936, in _fit\n    self._check_model_compatibility(y)\n  File \"/opt/homebrew/Caskroom/miniforge/base/envs/ml/lib/python3.9/site-packages/scikeras/wrappers.py\", line 559, in _check_model_compatibility\n    if self.n_outputs_expected_ != len(self.model_.outputs):\n  File \"/opt/homebrew/Caskroom/miniforge/base/envs/ml/lib/python3.9/site-packages/keras/src/models/sequential.py\", line 283, in outputs\n    raise ValueError(\nValueError: Sequential model 'sequential_191' has no defined outputs yet.\n\n--------------------------------------------------------------------------------\n1 fits failed with the following error:\nTraceback (most recent call last):\n  File \"/opt/homebrew/Caskroom/miniforge/base/envs/ml/lib/python3.9/site-packages/sklearn/model_selection/_validation.py\", line 895, in _fit_and_score\n    estimator.fit(X_train, y_train, **fit_params)\n  File \"/opt/homebrew/Caskroom/miniforge/base/envs/ml/lib/python3.9/site-packages/scikeras/wrappers.py\", line 770, in fit\n    self._fit(\n  File \"/opt/homebrew/Caskroom/miniforge/base/envs/ml/lib/python3.9/site-packages/scikeras/wrappers.py\", line 936, in _fit\n    self._check_model_compatibility(y)\n  File \"/opt/homebrew/Caskroom/miniforge/base/envs/ml/lib/python3.9/site-packages/scikeras/wrappers.py\", line 559, in _check_model_compatibility\n    if self.n_outputs_expected_ != len(self.model_.outputs):\n  File \"/opt/homebrew/Caskroom/miniforge/base/envs/ml/lib/python3.9/site-packages/keras/src/models/sequential.py\", line 283, in outputs\n    raise ValueError(\nValueError: Sequential model 'sequential_192' has no defined outputs yet.\n\n--------------------------------------------------------------------------------\n1 fits failed with the following error:\nTraceback (most recent call last):\n  File \"/opt/homebrew/Caskroom/miniforge/base/envs/ml/lib/python3.9/site-packages/sklearn/model_selection/_validation.py\", line 895, in _fit_and_score\n    estimator.fit(X_train, y_train, **fit_params)\n  File \"/opt/homebrew/Caskroom/miniforge/base/envs/ml/lib/python3.9/site-packages/scikeras/wrappers.py\", line 770, in fit\n    self._fit(\n  File \"/opt/homebrew/Caskroom/miniforge/base/envs/ml/lib/python3.9/site-packages/scikeras/wrappers.py\", line 936, in _fit\n    self._check_model_compatibility(y)\n  File \"/opt/homebrew/Caskroom/miniforge/base/envs/ml/lib/python3.9/site-packages/scikeras/wrappers.py\", line 559, in _check_model_compatibility\n    if self.n_outputs_expected_ != len(self.model_.outputs):\n  File \"/opt/homebrew/Caskroom/miniforge/base/envs/ml/lib/python3.9/site-packages/keras/src/models/sequential.py\", line 283, in outputs\n    raise ValueError(\nValueError: Sequential model 'sequential_193' has no defined outputs yet.\n\n--------------------------------------------------------------------------------\n1 fits failed with the following error:\nTraceback (most recent call last):\n  File \"/opt/homebrew/Caskroom/miniforge/base/envs/ml/lib/python3.9/site-packages/sklearn/model_selection/_validation.py\", line 895, in _fit_and_score\n    estimator.fit(X_train, y_train, **fit_params)\n  File \"/opt/homebrew/Caskroom/miniforge/base/envs/ml/lib/python3.9/site-packages/scikeras/wrappers.py\", line 770, in fit\n    self._fit(\n  File \"/opt/homebrew/Caskroom/miniforge/base/envs/ml/lib/python3.9/site-packages/scikeras/wrappers.py\", line 936, in _fit\n    self._check_model_compatibility(y)\n  File \"/opt/homebrew/Caskroom/miniforge/base/envs/ml/lib/python3.9/site-packages/scikeras/wrappers.py\", line 559, in _check_model_compatibility\n    if self.n_outputs_expected_ != len(self.model_.outputs):\n  File \"/opt/homebrew/Caskroom/miniforge/base/envs/ml/lib/python3.9/site-packages/keras/src/models/sequential.py\", line 283, in outputs\n    raise ValueError(\nValueError: Sequential model 'sequential_194' has no defined outputs yet.\n",
     "output_type": "error",
     "traceback": [
      "\u001b[0;31m---------------------------------------------------------------------------\u001b[0m",
      "\u001b[0;31mValueError\u001b[0m                                Traceback (most recent call last)",
      "Cell \u001b[0;32mIn[79], line 3\u001b[0m\n\u001b[1;32m      1\u001b[0m rnd_search_cv \u001b[38;5;241m=\u001b[39m RandomizedSearchCV(keras_reg, param_distribs, n_iter\u001b[38;5;241m=\u001b[39m\u001b[38;5;241m5\u001b[39m, cv\u001b[38;5;241m=\u001b[39m\u001b[38;5;241m3\u001b[39m, verbose\u001b[38;5;241m=\u001b[39m\u001b[38;5;241m2\u001b[39m)\n\u001b[0;32m----> 3\u001b[0m \u001b[43mrnd_search_cv\u001b[49m\u001b[38;5;241;43m.\u001b[39;49m\u001b[43mfit\u001b[49m\u001b[43m(\u001b[49m\u001b[43mX_train\u001b[49m\u001b[43m,\u001b[49m\u001b[43m \u001b[49m\u001b[43my_train\u001b[49m\u001b[43m,\u001b[49m\u001b[43m \u001b[49m\u001b[43mepochs\u001b[49m\u001b[38;5;241;43m=\u001b[39;49m\u001b[38;5;241;43m100\u001b[39;49m\u001b[43m,\u001b[49m\u001b[43m \u001b[49m\u001b[43mvalidation_data\u001b[49m\u001b[38;5;241;43m=\u001b[39;49m\u001b[43m(\u001b[49m\u001b[43mX_valid\u001b[49m\u001b[43m,\u001b[49m\u001b[43m \u001b[49m\u001b[43my_valid\u001b[49m\u001b[43m)\u001b[49m\u001b[43m,\u001b[49m\u001b[43m \u001b[49m\u001b[43mverbose\u001b[49m\u001b[38;5;241;43m=\u001b[39;49m\u001b[38;5;241;43m0\u001b[39;49m\u001b[43m)\u001b[49m\n",
      "File \u001b[0;32m/opt/homebrew/Caskroom/miniforge/base/envs/ml/lib/python3.9/site-packages/sklearn/base.py:1474\u001b[0m, in \u001b[0;36m_fit_context.<locals>.decorator.<locals>.wrapper\u001b[0;34m(estimator, *args, **kwargs)\u001b[0m\n\u001b[1;32m   1467\u001b[0m     estimator\u001b[38;5;241m.\u001b[39m_validate_params()\n\u001b[1;32m   1469\u001b[0m \u001b[38;5;28;01mwith\u001b[39;00m config_context(\n\u001b[1;32m   1470\u001b[0m     skip_parameter_validation\u001b[38;5;241m=\u001b[39m(\n\u001b[1;32m   1471\u001b[0m         prefer_skip_nested_validation \u001b[38;5;129;01mor\u001b[39;00m global_skip_validation\n\u001b[1;32m   1472\u001b[0m     )\n\u001b[1;32m   1473\u001b[0m ):\n\u001b[0;32m-> 1474\u001b[0m     \u001b[38;5;28;01mreturn\u001b[39;00m \u001b[43mfit_method\u001b[49m\u001b[43m(\u001b[49m\u001b[43mestimator\u001b[49m\u001b[43m,\u001b[49m\u001b[43m \u001b[49m\u001b[38;5;241;43m*\u001b[39;49m\u001b[43margs\u001b[49m\u001b[43m,\u001b[49m\u001b[43m \u001b[49m\u001b[38;5;241;43m*\u001b[39;49m\u001b[38;5;241;43m*\u001b[39;49m\u001b[43mkwargs\u001b[49m\u001b[43m)\u001b[49m\n",
      "File \u001b[0;32m/opt/homebrew/Caskroom/miniforge/base/envs/ml/lib/python3.9/site-packages/sklearn/model_selection/_search.py:970\u001b[0m, in \u001b[0;36mBaseSearchCV.fit\u001b[0;34m(self, X, y, **params)\u001b[0m\n\u001b[1;32m    964\u001b[0m     results \u001b[38;5;241m=\u001b[39m \u001b[38;5;28mself\u001b[39m\u001b[38;5;241m.\u001b[39m_format_results(\n\u001b[1;32m    965\u001b[0m         all_candidate_params, n_splits, all_out, all_more_results\n\u001b[1;32m    966\u001b[0m     )\n\u001b[1;32m    968\u001b[0m     \u001b[38;5;28;01mreturn\u001b[39;00m results\n\u001b[0;32m--> 970\u001b[0m \u001b[38;5;28;43mself\u001b[39;49m\u001b[38;5;241;43m.\u001b[39;49m\u001b[43m_run_search\u001b[49m\u001b[43m(\u001b[49m\u001b[43mevaluate_candidates\u001b[49m\u001b[43m)\u001b[49m\n\u001b[1;32m    972\u001b[0m \u001b[38;5;66;03m# multimetric is determined here because in the case of a callable\u001b[39;00m\n\u001b[1;32m    973\u001b[0m \u001b[38;5;66;03m# self.scoring the return type is only known after calling\u001b[39;00m\n\u001b[1;32m    974\u001b[0m first_test_score \u001b[38;5;241m=\u001b[39m all_out[\u001b[38;5;241m0\u001b[39m][\u001b[38;5;124m\"\u001b[39m\u001b[38;5;124mtest_scores\u001b[39m\u001b[38;5;124m\"\u001b[39m]\n",
      "File \u001b[0;32m/opt/homebrew/Caskroom/miniforge/base/envs/ml/lib/python3.9/site-packages/sklearn/model_selection/_search.py:1914\u001b[0m, in \u001b[0;36mRandomizedSearchCV._run_search\u001b[0;34m(self, evaluate_candidates)\u001b[0m\n\u001b[1;32m   1912\u001b[0m \u001b[38;5;28;01mdef\u001b[39;00m \u001b[38;5;21m_run_search\u001b[39m(\u001b[38;5;28mself\u001b[39m, evaluate_candidates):\n\u001b[1;32m   1913\u001b[0m \u001b[38;5;250m    \u001b[39m\u001b[38;5;124;03m\"\"\"Search n_iter candidates from param_distributions\"\"\"\u001b[39;00m\n\u001b[0;32m-> 1914\u001b[0m     \u001b[43mevaluate_candidates\u001b[49m\u001b[43m(\u001b[49m\n\u001b[1;32m   1915\u001b[0m \u001b[43m        \u001b[49m\u001b[43mParameterSampler\u001b[49m\u001b[43m(\u001b[49m\n\u001b[1;32m   1916\u001b[0m \u001b[43m            \u001b[49m\u001b[38;5;28;43mself\u001b[39;49m\u001b[38;5;241;43m.\u001b[39;49m\u001b[43mparam_distributions\u001b[49m\u001b[43m,\u001b[49m\u001b[43m \u001b[49m\u001b[38;5;28;43mself\u001b[39;49m\u001b[38;5;241;43m.\u001b[39;49m\u001b[43mn_iter\u001b[49m\u001b[43m,\u001b[49m\u001b[43m \u001b[49m\u001b[43mrandom_state\u001b[49m\u001b[38;5;241;43m=\u001b[39;49m\u001b[38;5;28;43mself\u001b[39;49m\u001b[38;5;241;43m.\u001b[39;49m\u001b[43mrandom_state\u001b[49m\n\u001b[1;32m   1917\u001b[0m \u001b[43m        \u001b[49m\u001b[43m)\u001b[49m\n\u001b[1;32m   1918\u001b[0m \u001b[43m    \u001b[49m\u001b[43m)\u001b[49m\n",
      "File \u001b[0;32m/opt/homebrew/Caskroom/miniforge/base/envs/ml/lib/python3.9/site-packages/sklearn/model_selection/_search.py:947\u001b[0m, in \u001b[0;36mBaseSearchCV.fit.<locals>.evaluate_candidates\u001b[0;34m(candidate_params, cv, more_results)\u001b[0m\n\u001b[1;32m    940\u001b[0m \u001b[38;5;28;01melif\u001b[39;00m \u001b[38;5;28mlen\u001b[39m(out) \u001b[38;5;241m!=\u001b[39m n_candidates \u001b[38;5;241m*\u001b[39m n_splits:\n\u001b[1;32m    941\u001b[0m     \u001b[38;5;28;01mraise\u001b[39;00m \u001b[38;5;167;01mValueError\u001b[39;00m(\n\u001b[1;32m    942\u001b[0m         \u001b[38;5;124m\"\u001b[39m\u001b[38;5;124mcv.split and cv.get_n_splits returned \u001b[39m\u001b[38;5;124m\"\u001b[39m\n\u001b[1;32m    943\u001b[0m         \u001b[38;5;124m\"\u001b[39m\u001b[38;5;124minconsistent results. Expected \u001b[39m\u001b[38;5;132;01m{}\u001b[39;00m\u001b[38;5;124m \u001b[39m\u001b[38;5;124m\"\u001b[39m\n\u001b[1;32m    944\u001b[0m         \u001b[38;5;124m\"\u001b[39m\u001b[38;5;124msplits, got \u001b[39m\u001b[38;5;132;01m{}\u001b[39;00m\u001b[38;5;124m\"\u001b[39m\u001b[38;5;241m.\u001b[39mformat(n_splits, \u001b[38;5;28mlen\u001b[39m(out) \u001b[38;5;241m/\u001b[39m\u001b[38;5;241m/\u001b[39m n_candidates)\n\u001b[1;32m    945\u001b[0m     )\n\u001b[0;32m--> 947\u001b[0m \u001b[43m_warn_or_raise_about_fit_failures\u001b[49m\u001b[43m(\u001b[49m\u001b[43mout\u001b[49m\u001b[43m,\u001b[49m\u001b[43m \u001b[49m\u001b[38;5;28;43mself\u001b[39;49m\u001b[38;5;241;43m.\u001b[39;49m\u001b[43merror_score\u001b[49m\u001b[43m)\u001b[49m\n\u001b[1;32m    949\u001b[0m \u001b[38;5;66;03m# For callable self.scoring, the return type is only know after\u001b[39;00m\n\u001b[1;32m    950\u001b[0m \u001b[38;5;66;03m# calling. If the return type is a dictionary, the error scores\u001b[39;00m\n\u001b[1;32m    951\u001b[0m \u001b[38;5;66;03m# can now be inserted with the correct key. The type checking\u001b[39;00m\n\u001b[1;32m    952\u001b[0m \u001b[38;5;66;03m# of out will be done in `_insert_error_scores`.\u001b[39;00m\n\u001b[1;32m    953\u001b[0m \u001b[38;5;28;01mif\u001b[39;00m \u001b[38;5;28mcallable\u001b[39m(\u001b[38;5;28mself\u001b[39m\u001b[38;5;241m.\u001b[39mscoring):\n",
      "File \u001b[0;32m/opt/homebrew/Caskroom/miniforge/base/envs/ml/lib/python3.9/site-packages/sklearn/model_selection/_validation.py:536\u001b[0m, in \u001b[0;36m_warn_or_raise_about_fit_failures\u001b[0;34m(results, error_score)\u001b[0m\n\u001b[1;32m    529\u001b[0m \u001b[38;5;28;01mif\u001b[39;00m num_failed_fits \u001b[38;5;241m==\u001b[39m num_fits:\n\u001b[1;32m    530\u001b[0m     all_fits_failed_message \u001b[38;5;241m=\u001b[39m (\n\u001b[1;32m    531\u001b[0m         \u001b[38;5;124mf\u001b[39m\u001b[38;5;124m\"\u001b[39m\u001b[38;5;130;01m\\n\u001b[39;00m\u001b[38;5;124mAll the \u001b[39m\u001b[38;5;132;01m{\u001b[39;00mnum_fits\u001b[38;5;132;01m}\u001b[39;00m\u001b[38;5;124m fits failed.\u001b[39m\u001b[38;5;130;01m\\n\u001b[39;00m\u001b[38;5;124m\"\u001b[39m\n\u001b[1;32m    532\u001b[0m         \u001b[38;5;124m\"\u001b[39m\u001b[38;5;124mIt is very likely that your model is misconfigured.\u001b[39m\u001b[38;5;130;01m\\n\u001b[39;00m\u001b[38;5;124m\"\u001b[39m\n\u001b[1;32m    533\u001b[0m         \u001b[38;5;124m\"\u001b[39m\u001b[38;5;124mYou can try to debug the error by setting error_score=\u001b[39m\u001b[38;5;124m'\u001b[39m\u001b[38;5;124mraise\u001b[39m\u001b[38;5;124m'\u001b[39m\u001b[38;5;124m.\u001b[39m\u001b[38;5;130;01m\\n\u001b[39;00m\u001b[38;5;130;01m\\n\u001b[39;00m\u001b[38;5;124m\"\u001b[39m\n\u001b[1;32m    534\u001b[0m         \u001b[38;5;124mf\u001b[39m\u001b[38;5;124m\"\u001b[39m\u001b[38;5;124mBelow are more details about the failures:\u001b[39m\u001b[38;5;130;01m\\n\u001b[39;00m\u001b[38;5;132;01m{\u001b[39;00mfit_errors_summary\u001b[38;5;132;01m}\u001b[39;00m\u001b[38;5;124m\"\u001b[39m\n\u001b[1;32m    535\u001b[0m     )\n\u001b[0;32m--> 536\u001b[0m     \u001b[38;5;28;01mraise\u001b[39;00m \u001b[38;5;167;01mValueError\u001b[39;00m(all_fits_failed_message)\n\u001b[1;32m    538\u001b[0m \u001b[38;5;28;01melse\u001b[39;00m:\n\u001b[1;32m    539\u001b[0m     some_fits_failed_message \u001b[38;5;241m=\u001b[39m (\n\u001b[1;32m    540\u001b[0m         \u001b[38;5;124mf\u001b[39m\u001b[38;5;124m\"\u001b[39m\u001b[38;5;130;01m\\n\u001b[39;00m\u001b[38;5;132;01m{\u001b[39;00mnum_failed_fits\u001b[38;5;132;01m}\u001b[39;00m\u001b[38;5;124m fits failed out of a total of \u001b[39m\u001b[38;5;132;01m{\u001b[39;00mnum_fits\u001b[38;5;132;01m}\u001b[39;00m\u001b[38;5;124m.\u001b[39m\u001b[38;5;130;01m\\n\u001b[39;00m\u001b[38;5;124m\"\u001b[39m\n\u001b[1;32m    541\u001b[0m         \u001b[38;5;124m\"\u001b[39m\u001b[38;5;124mThe score on these train-test partitions for these parameters\u001b[39m\u001b[38;5;124m\"\u001b[39m\n\u001b[0;32m   (...)\u001b[0m\n\u001b[1;32m    545\u001b[0m         \u001b[38;5;124mf\u001b[39m\u001b[38;5;124m\"\u001b[39m\u001b[38;5;124mBelow are more details about the failures:\u001b[39m\u001b[38;5;130;01m\\n\u001b[39;00m\u001b[38;5;132;01m{\u001b[39;00mfit_errors_summary\u001b[38;5;132;01m}\u001b[39;00m\u001b[38;5;124m\"\u001b[39m\n\u001b[1;32m    546\u001b[0m     )\n",
      "\u001b[0;31mValueError\u001b[0m: \nAll the 15 fits failed.\nIt is very likely that your model is misconfigured.\nYou can try to debug the error by setting error_score='raise'.\n\nBelow are more details about the failures:\n--------------------------------------------------------------------------------\n3 fits failed with the following error:\nTraceback (most recent call last):\n  File \"/opt/homebrew/Caskroom/miniforge/base/envs/ml/lib/python3.9/site-packages/sklearn/model_selection/_validation.py\", line 895, in _fit_and_score\n    estimator.fit(X_train, y_train, **fit_params)\n  File \"/opt/homebrew/Caskroom/miniforge/base/envs/ml/lib/python3.9/site-packages/scikeras/wrappers.py\", line 770, in fit\n    self._fit(\n  File \"/opt/homebrew/Caskroom/miniforge/base/envs/ml/lib/python3.9/site-packages/scikeras/wrappers.py\", line 925, in _fit\n    X, y = self._initialize(X, y)\n  File \"/opt/homebrew/Caskroom/miniforge/base/envs/ml/lib/python3.9/site-packages/scikeras/wrappers.py\", line 862, in _initialize\n    self.model_ = self._build_keras_model()\n  File \"/opt/homebrew/Caskroom/miniforge/base/envs/ml/lib/python3.9/site-packages/scikeras/wrappers.py\", line 433, in _build_keras_model\n    model = final_build_fn(**build_params)\n  File \"/var/folders/zl/gfmbc3kn5tldjp_tlzjkmjqw0000gn/T/ipykernel_70863/740750684.py\", line 13, in build_model\n    optimizer = tf.keras.optimizers.SGD(learning_rate=learning_rate, nevsterov=True)\n  File \"/opt/homebrew/Caskroom/miniforge/base/envs/ml/lib/python3.9/site-packages/keras/src/optimizers/sgd.py\", line 60, in __init__\n    super().__init__(\n  File \"/opt/homebrew/Caskroom/miniforge/base/envs/ml/lib/python3.9/site-packages/keras/src/backend/tensorflow/optimizer.py\", line 22, in __init__\n    super().__init__(*args, **kwargs)\n  File \"/opt/homebrew/Caskroom/miniforge/base/envs/ml/lib/python3.9/site-packages/keras/src/optimizers/base_optimizer.py\", line 37, in __init__\n    raise ValueError(f\"Argument(s) not recognized: {kwargs}\")\nValueError: Argument(s) not recognized: {'nevsterov': True}\n\n--------------------------------------------------------------------------------\n1 fits failed with the following error:\nTraceback (most recent call last):\n  File \"/opt/homebrew/Caskroom/miniforge/base/envs/ml/lib/python3.9/site-packages/sklearn/model_selection/_validation.py\", line 895, in _fit_and_score\n    estimator.fit(X_train, y_train, **fit_params)\n  File \"/opt/homebrew/Caskroom/miniforge/base/envs/ml/lib/python3.9/site-packages/scikeras/wrappers.py\", line 770, in fit\n    self._fit(\n  File \"/opt/homebrew/Caskroom/miniforge/base/envs/ml/lib/python3.9/site-packages/scikeras/wrappers.py\", line 936, in _fit\n    self._check_model_compatibility(y)\n  File \"/opt/homebrew/Caskroom/miniforge/base/envs/ml/lib/python3.9/site-packages/scikeras/wrappers.py\", line 559, in _check_model_compatibility\n    if self.n_outputs_expected_ != len(self.model_.outputs):\n  File \"/opt/homebrew/Caskroom/miniforge/base/envs/ml/lib/python3.9/site-packages/keras/src/models/sequential.py\", line 283, in outputs\n    raise ValueError(\nValueError: Sequential model 'sequential_183' has no defined outputs yet.\n\n--------------------------------------------------------------------------------\n1 fits failed with the following error:\nTraceback (most recent call last):\n  File \"/opt/homebrew/Caskroom/miniforge/base/envs/ml/lib/python3.9/site-packages/sklearn/model_selection/_validation.py\", line 895, in _fit_and_score\n    estimator.fit(X_train, y_train, **fit_params)\n  File \"/opt/homebrew/Caskroom/miniforge/base/envs/ml/lib/python3.9/site-packages/scikeras/wrappers.py\", line 770, in fit\n    self._fit(\n  File \"/opt/homebrew/Caskroom/miniforge/base/envs/ml/lib/python3.9/site-packages/scikeras/wrappers.py\", line 936, in _fit\n    self._check_model_compatibility(y)\n  File \"/opt/homebrew/Caskroom/miniforge/base/envs/ml/lib/python3.9/site-packages/scikeras/wrappers.py\", line 559, in _check_model_compatibility\n    if self.n_outputs_expected_ != len(self.model_.outputs):\n  File \"/opt/homebrew/Caskroom/miniforge/base/envs/ml/lib/python3.9/site-packages/keras/src/models/sequential.py\", line 283, in outputs\n    raise ValueError(\nValueError: Sequential model 'sequential_184' has no defined outputs yet.\n\n--------------------------------------------------------------------------------\n1 fits failed with the following error:\nTraceback (most recent call last):\n  File \"/opt/homebrew/Caskroom/miniforge/base/envs/ml/lib/python3.9/site-packages/sklearn/model_selection/_validation.py\", line 895, in _fit_and_score\n    estimator.fit(X_train, y_train, **fit_params)\n  File \"/opt/homebrew/Caskroom/miniforge/base/envs/ml/lib/python3.9/site-packages/scikeras/wrappers.py\", line 770, in fit\n    self._fit(\n  File \"/opt/homebrew/Caskroom/miniforge/base/envs/ml/lib/python3.9/site-packages/scikeras/wrappers.py\", line 936, in _fit\n    self._check_model_compatibility(y)\n  File \"/opt/homebrew/Caskroom/miniforge/base/envs/ml/lib/python3.9/site-packages/scikeras/wrappers.py\", line 559, in _check_model_compatibility\n    if self.n_outputs_expected_ != len(self.model_.outputs):\n  File \"/opt/homebrew/Caskroom/miniforge/base/envs/ml/lib/python3.9/site-packages/keras/src/models/sequential.py\", line 283, in outputs\n    raise ValueError(\nValueError: Sequential model 'sequential_185' has no defined outputs yet.\n\n--------------------------------------------------------------------------------\n1 fits failed with the following error:\nTraceback (most recent call last):\n  File \"/opt/homebrew/Caskroom/miniforge/base/envs/ml/lib/python3.9/site-packages/sklearn/model_selection/_validation.py\", line 895, in _fit_and_score\n    estimator.fit(X_train, y_train, **fit_params)\n  File \"/opt/homebrew/Caskroom/miniforge/base/envs/ml/lib/python3.9/site-packages/scikeras/wrappers.py\", line 770, in fit\n    self._fit(\n  File \"/opt/homebrew/Caskroom/miniforge/base/envs/ml/lib/python3.9/site-packages/scikeras/wrappers.py\", line 936, in _fit\n    self._check_model_compatibility(y)\n  File \"/opt/homebrew/Caskroom/miniforge/base/envs/ml/lib/python3.9/site-packages/scikeras/wrappers.py\", line 559, in _check_model_compatibility\n    if self.n_outputs_expected_ != len(self.model_.outputs):\n  File \"/opt/homebrew/Caskroom/miniforge/base/envs/ml/lib/python3.9/site-packages/keras/src/models/sequential.py\", line 283, in outputs\n    raise ValueError(\nValueError: Sequential model 'sequential_186' has no defined outputs yet.\n\n--------------------------------------------------------------------------------\n1 fits failed with the following error:\nTraceback (most recent call last):\n  File \"/opt/homebrew/Caskroom/miniforge/base/envs/ml/lib/python3.9/site-packages/sklearn/model_selection/_validation.py\", line 895, in _fit_and_score\n    estimator.fit(X_train, y_train, **fit_params)\n  File \"/opt/homebrew/Caskroom/miniforge/base/envs/ml/lib/python3.9/site-packages/scikeras/wrappers.py\", line 770, in fit\n    self._fit(\n  File \"/opt/homebrew/Caskroom/miniforge/base/envs/ml/lib/python3.9/site-packages/scikeras/wrappers.py\", line 936, in _fit\n    self._check_model_compatibility(y)\n  File \"/opt/homebrew/Caskroom/miniforge/base/envs/ml/lib/python3.9/site-packages/scikeras/wrappers.py\", line 559, in _check_model_compatibility\n    if self.n_outputs_expected_ != len(self.model_.outputs):\n  File \"/opt/homebrew/Caskroom/miniforge/base/envs/ml/lib/python3.9/site-packages/keras/src/models/sequential.py\", line 283, in outputs\n    raise ValueError(\nValueError: Sequential model 'sequential_187' has no defined outputs yet.\n\n--------------------------------------------------------------------------------\n1 fits failed with the following error:\nTraceback (most recent call last):\n  File \"/opt/homebrew/Caskroom/miniforge/base/envs/ml/lib/python3.9/site-packages/sklearn/model_selection/_validation.py\", line 895, in _fit_and_score\n    estimator.fit(X_train, y_train, **fit_params)\n  File \"/opt/homebrew/Caskroom/miniforge/base/envs/ml/lib/python3.9/site-packages/scikeras/wrappers.py\", line 770, in fit\n    self._fit(\n  File \"/opt/homebrew/Caskroom/miniforge/base/envs/ml/lib/python3.9/site-packages/scikeras/wrappers.py\", line 936, in _fit\n    self._check_model_compatibility(y)\n  File \"/opt/homebrew/Caskroom/miniforge/base/envs/ml/lib/python3.9/site-packages/scikeras/wrappers.py\", line 559, in _check_model_compatibility\n    if self.n_outputs_expected_ != len(self.model_.outputs):\n  File \"/opt/homebrew/Caskroom/miniforge/base/envs/ml/lib/python3.9/site-packages/keras/src/models/sequential.py\", line 283, in outputs\n    raise ValueError(\nValueError: Sequential model 'sequential_188' has no defined outputs yet.\n\n--------------------------------------------------------------------------------\n1 fits failed with the following error:\nTraceback (most recent call last):\n  File \"/opt/homebrew/Caskroom/miniforge/base/envs/ml/lib/python3.9/site-packages/sklearn/model_selection/_validation.py\", line 895, in _fit_and_score\n    estimator.fit(X_train, y_train, **fit_params)\n  File \"/opt/homebrew/Caskroom/miniforge/base/envs/ml/lib/python3.9/site-packages/scikeras/wrappers.py\", line 770, in fit\n    self._fit(\n  File \"/opt/homebrew/Caskroom/miniforge/base/envs/ml/lib/python3.9/site-packages/scikeras/wrappers.py\", line 936, in _fit\n    self._check_model_compatibility(y)\n  File \"/opt/homebrew/Caskroom/miniforge/base/envs/ml/lib/python3.9/site-packages/scikeras/wrappers.py\", line 559, in _check_model_compatibility\n    if self.n_outputs_expected_ != len(self.model_.outputs):\n  File \"/opt/homebrew/Caskroom/miniforge/base/envs/ml/lib/python3.9/site-packages/keras/src/models/sequential.py\", line 283, in outputs\n    raise ValueError(\nValueError: Sequential model 'sequential_189' has no defined outputs yet.\n\n--------------------------------------------------------------------------------\n1 fits failed with the following error:\nTraceback (most recent call last):\n  File \"/opt/homebrew/Caskroom/miniforge/base/envs/ml/lib/python3.9/site-packages/sklearn/model_selection/_validation.py\", line 895, in _fit_and_score\n    estimator.fit(X_train, y_train, **fit_params)\n  File \"/opt/homebrew/Caskroom/miniforge/base/envs/ml/lib/python3.9/site-packages/scikeras/wrappers.py\", line 770, in fit\n    self._fit(\n  File \"/opt/homebrew/Caskroom/miniforge/base/envs/ml/lib/python3.9/site-packages/scikeras/wrappers.py\", line 936, in _fit\n    self._check_model_compatibility(y)\n  File \"/opt/homebrew/Caskroom/miniforge/base/envs/ml/lib/python3.9/site-packages/scikeras/wrappers.py\", line 559, in _check_model_compatibility\n    if self.n_outputs_expected_ != len(self.model_.outputs):\n  File \"/opt/homebrew/Caskroom/miniforge/base/envs/ml/lib/python3.9/site-packages/keras/src/models/sequential.py\", line 283, in outputs\n    raise ValueError(\nValueError: Sequential model 'sequential_190' has no defined outputs yet.\n\n--------------------------------------------------------------------------------\n1 fits failed with the following error:\nTraceback (most recent call last):\n  File \"/opt/homebrew/Caskroom/miniforge/base/envs/ml/lib/python3.9/site-packages/sklearn/model_selection/_validation.py\", line 895, in _fit_and_score\n    estimator.fit(X_train, y_train, **fit_params)\n  File \"/opt/homebrew/Caskroom/miniforge/base/envs/ml/lib/python3.9/site-packages/scikeras/wrappers.py\", line 770, in fit\n    self._fit(\n  File \"/opt/homebrew/Caskroom/miniforge/base/envs/ml/lib/python3.9/site-packages/scikeras/wrappers.py\", line 936, in _fit\n    self._check_model_compatibility(y)\n  File \"/opt/homebrew/Caskroom/miniforge/base/envs/ml/lib/python3.9/site-packages/scikeras/wrappers.py\", line 559, in _check_model_compatibility\n    if self.n_outputs_expected_ != len(self.model_.outputs):\n  File \"/opt/homebrew/Caskroom/miniforge/base/envs/ml/lib/python3.9/site-packages/keras/src/models/sequential.py\", line 283, in outputs\n    raise ValueError(\nValueError: Sequential model 'sequential_191' has no defined outputs yet.\n\n--------------------------------------------------------------------------------\n1 fits failed with the following error:\nTraceback (most recent call last):\n  File \"/opt/homebrew/Caskroom/miniforge/base/envs/ml/lib/python3.9/site-packages/sklearn/model_selection/_validation.py\", line 895, in _fit_and_score\n    estimator.fit(X_train, y_train, **fit_params)\n  File \"/opt/homebrew/Caskroom/miniforge/base/envs/ml/lib/python3.9/site-packages/scikeras/wrappers.py\", line 770, in fit\n    self._fit(\n  File \"/opt/homebrew/Caskroom/miniforge/base/envs/ml/lib/python3.9/site-packages/scikeras/wrappers.py\", line 936, in _fit\n    self._check_model_compatibility(y)\n  File \"/opt/homebrew/Caskroom/miniforge/base/envs/ml/lib/python3.9/site-packages/scikeras/wrappers.py\", line 559, in _check_model_compatibility\n    if self.n_outputs_expected_ != len(self.model_.outputs):\n  File \"/opt/homebrew/Caskroom/miniforge/base/envs/ml/lib/python3.9/site-packages/keras/src/models/sequential.py\", line 283, in outputs\n    raise ValueError(\nValueError: Sequential model 'sequential_192' has no defined outputs yet.\n\n--------------------------------------------------------------------------------\n1 fits failed with the following error:\nTraceback (most recent call last):\n  File \"/opt/homebrew/Caskroom/miniforge/base/envs/ml/lib/python3.9/site-packages/sklearn/model_selection/_validation.py\", line 895, in _fit_and_score\n    estimator.fit(X_train, y_train, **fit_params)\n  File \"/opt/homebrew/Caskroom/miniforge/base/envs/ml/lib/python3.9/site-packages/scikeras/wrappers.py\", line 770, in fit\n    self._fit(\n  File \"/opt/homebrew/Caskroom/miniforge/base/envs/ml/lib/python3.9/site-packages/scikeras/wrappers.py\", line 936, in _fit\n    self._check_model_compatibility(y)\n  File \"/opt/homebrew/Caskroom/miniforge/base/envs/ml/lib/python3.9/site-packages/scikeras/wrappers.py\", line 559, in _check_model_compatibility\n    if self.n_outputs_expected_ != len(self.model_.outputs):\n  File \"/opt/homebrew/Caskroom/miniforge/base/envs/ml/lib/python3.9/site-packages/keras/src/models/sequential.py\", line 283, in outputs\n    raise ValueError(\nValueError: Sequential model 'sequential_193' has no defined outputs yet.\n\n--------------------------------------------------------------------------------\n1 fits failed with the following error:\nTraceback (most recent call last):\n  File \"/opt/homebrew/Caskroom/miniforge/base/envs/ml/lib/python3.9/site-packages/sklearn/model_selection/_validation.py\", line 895, in _fit_and_score\n    estimator.fit(X_train, y_train, **fit_params)\n  File \"/opt/homebrew/Caskroom/miniforge/base/envs/ml/lib/python3.9/site-packages/scikeras/wrappers.py\", line 770, in fit\n    self._fit(\n  File \"/opt/homebrew/Caskroom/miniforge/base/envs/ml/lib/python3.9/site-packages/scikeras/wrappers.py\", line 936, in _fit\n    self._check_model_compatibility(y)\n  File \"/opt/homebrew/Caskroom/miniforge/base/envs/ml/lib/python3.9/site-packages/scikeras/wrappers.py\", line 559, in _check_model_compatibility\n    if self.n_outputs_expected_ != len(self.model_.outputs):\n  File \"/opt/homebrew/Caskroom/miniforge/base/envs/ml/lib/python3.9/site-packages/keras/src/models/sequential.py\", line 283, in outputs\n    raise ValueError(\nValueError: Sequential model 'sequential_194' has no defined outputs yet.\n"
     ]
    }
   ],
   "source": [
    "rnd_search_cv = RandomizedSearchCV(keras_reg, param_distribs, n_iter=5, cv=3, verbose=2)\n",
    "\n",
    "rnd_search_cv.fit(X_train, y_train, epochs=100, validation_data=(X_valid, y_valid), verbose=0)"
   ]
  },
  {
   "cell_type": "code",
   "execution_count": 81,
   "id": "c60f912e-3c94-4ffb-9f42-84a79d189e19",
   "metadata": {},
   "outputs": [
    {
     "ename": "ModuleNotFoundError",
     "evalue": "No module named 'keras_tuner'",
     "output_type": "error",
     "traceback": [
      "\u001b[0;31m---------------------------------------------------------------------------\u001b[0m",
      "\u001b[0;31mModuleNotFoundError\u001b[0m                       Traceback (most recent call last)",
      "Cell \u001b[0;32mIn[81], line 1\u001b[0m\n\u001b[0;32m----> 1\u001b[0m \u001b[38;5;28;01mimport\u001b[39;00m \u001b[38;5;21;01mkeras_tuner\u001b[39;00m \u001b[38;5;28;01mas\u001b[39;00m \u001b[38;5;21;01mkt\u001b[39;00m\n",
      "\u001b[0;31mModuleNotFoundError\u001b[0m: No module named 'keras_tuner'"
     ]
    }
   ],
   "source": [
    "import keras_tuner as kt"
   ]
  }
 ],
 "metadata": {
  "kernelspec": {
   "display_name": "Python 3 (ipykernel)",
   "language": "python",
   "name": "python3"
  },
  "language_info": {
   "codemirror_mode": {
    "name": "ipython",
    "version": 3
   },
   "file_extension": ".py",
   "mimetype": "text/x-python",
   "name": "python",
   "nbconvert_exporter": "python",
   "pygments_lexer": "ipython3",
   "version": "3.9.19"
  }
 },
 "nbformat": 4,
 "nbformat_minor": 5
}
